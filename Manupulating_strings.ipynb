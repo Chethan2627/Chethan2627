{
  "nbformat": 4,
  "nbformat_minor": 0,
  "metadata": {
    "colab": {
      "provenance": [],
      "authorship_tag": "ABX9TyO9WI+TLLH7qJyjTyePfaqc",
      "include_colab_link": true
    },
    "kernelspec": {
      "name": "python3",
      "display_name": "Python 3"
    },
    "language_info": {
      "name": "python"
    }
  },
  "cells": [
    {
      "cell_type": "markdown",
      "metadata": {
        "id": "view-in-github",
        "colab_type": "text"
      },
      "source": [
        "<a href=\"https://colab.research.google.com/github/Chethan2627/Chethan2627/blob/main/Manupulating_strings.ipynb\" target=\"_parent\"><img src=\"https://colab.research.google.com/assets/colab-badge.svg\" alt=\"Open In Colab\"/></a>"
      ]
    },
    {
      "cell_type": "markdown",
      "source": [
        "**DOUBLE QOUTES**\n",
        "(\"  \")"
      ],
      "metadata": {
        "id": "OVchstCaP_up"
      }
    },
    {
      "cell_type": "code",
      "source": [
        "spam = \"That is Alice's cat.\"     # in double qoutes we can use single qoutes('')"
      ],
      "metadata": {
        "id": "OPKggR-3QVpu"
      },
      "execution_count": null,
      "outputs": []
    },
    {
      "cell_type": "markdown",
      "source": [
        "**ESCAPE CARACTERS** ( \\ )"
      ],
      "metadata": {
        "id": "WrO4ZVM0Q-Rr"
      }
    },
    {
      "cell_type": "code",
      "source": [
        "print('Says hi to BOB\\'s mother.')   #using the single qoutes in the single qoutes\n",
        "print(\"Says hi to BOB\\\"s mother.\")    #using the single qoutes in the single qoutes\n",
        "\n"
      ],
      "metadata": {
        "id": "PE3sy3GjRIBA",
        "colab": {
          "base_uri": "https://localhost:8080/"
        },
        "outputId": "5a12bcb9-78b4-432a-8b8b-638ae0b2953d"
      },
      "execution_count": null,
      "outputs": [
        {
          "output_type": "stream",
          "name": "stdout",
          "text": [
            "Says hi to BOB's mother.\n",
            "Says hi to BOB\"s mother.\n"
          ]
        }
      ]
    },
    {
      "cell_type": "code",
      "source": [
        "spam = \" HELLO THERE! \\n HOW ARE YOU? \\n DOING FINE \"     # Where \\n used as line barrier\n",
        "print(spam)"
      ],
      "metadata": {
        "colab": {
          "base_uri": "https://localhost:8080/"
        },
        "id": "rZZJZazjR9T8",
        "outputId": "e3f8e41c-06c9-4185-e37e-e47dc1dd2ef8"
      },
      "execution_count": null,
      "outputs": [
        {
          "output_type": "stream",
          "name": "stdout",
          "text": [
            " HELLO THERE! \n",
            " HOW ARE YOU? \n",
            " DOING FINE \n"
          ]
        }
      ]
    },
    {
      "cell_type": "code",
      "source": [
        "spam = \" HELLOTHERE!\\tHOW ARE YOU\\tDOING FINE \"     # Where \\t used as giving tab to clumsy or joined words\n",
        "print(spam)"
      ],
      "metadata": {
        "id": "-zJf5AvtTMX5",
        "colab": {
          "base_uri": "https://localhost:8080/"
        },
        "outputId": "1a2838ae-af0a-4f75-af32-0ee28bf3b0e7"
      },
      "execution_count": 8,
      "outputs": [
        {
          "output_type": "stream",
          "name": "stdout",
          "text": [
            " HELLOTHERE!\tHOW ARE YOU\tDOING FINE \n"
          ]
        }
      ]
    },
    {
      "cell_type": "markdown",
      "source": [
        "**RAW STINGS**"
      ],
      "metadata": {
        "id": "hyGraZlSS1LN"
      }
    },
    {
      "cell_type": "code",
      "source": [
        "spam = r\" HELLOTHERE!\\tHOW ARE YOU\\tDOING FINE \"    # Where \\t used as giving tab to clumsy or joined word\n",
        "                                                       # >>>>>>>> r use before the strins it can't run escape characters\n",
        "print(spam)\n",
        "spam = r\" HELLO THERE! \\n HOW ARE YOU? \\n DOING FINE \"     # Where \\n used as line barrier\n",
        "print(spam)"
      ],
      "metadata": {
        "colab": {
          "base_uri": "https://localhost:8080/"
        },
        "outputId": "23687b4f-168a-4fc2-8d1b-528fad6849ba",
        "id": "2U8T1v-Tefva"
      },
      "execution_count": 17,
      "outputs": [
        {
          "output_type": "stream",
          "name": "stdout",
          "text": [
            " HELLOTHERE!\\tHOW ARE YOU\\tDOING FINE \n",
            " HELLO THERE! \\n HOW ARE YOU? \\n DOING FINE \n"
          ]
        }
      ]
    },
    {
      "cell_type": "markdown",
      "source": [],
      "metadata": {
        "id": "-UECYF5hS8Jl"
      }
    },
    {
      "cell_type": "code",
      "source": [
        "print(''' HELLOTHERE!\\tHOW ARE YOU\\tDOING FINE HELLO THERE! \\n HOW ARE YOU? \\n DOING FINE ''') # in triple quuotes any quotes, tabs or new lines are considered as part of strins"
      ],
      "metadata": {
        "colab": {
          "base_uri": "https://localhost:8080/"
        },
        "id": "kYBkWsY0fcX4",
        "outputId": "25016fce-6b81-4f88-b12b-948abae977ff"
      },
      "execution_count": 18,
      "outputs": [
        {
          "output_type": "stream",
          "name": "stdout",
          "text": [
            " HELLOTHERE!\tHOW ARE YOU\tDOING FINE HELLO THERE! \n",
            " HOW ARE YOU? \n",
            " DOING FINE \n"
          ]
        }
      ]
    },
    {
      "cell_type": "markdown",
      "source": [
        "**INDEXNG AND SLICING**"
      ],
      "metadata": {
        "id": "YXQT9wacohZs"
      }
    },
    {
      "cell_type": "code",
      "source": [
        "spam = 'hello#world!'\n",
        "print(spam[0])  #indexing\n",
        "print(spam[4])  #indexing\n",
        "print(spam[-1])  #indexing\n",
        "print(spam[:5]) #slicing\n",
        "print(spam[0:5]) #slicing\n",
        "print(spam[5:])  #slicing\n",
        "print(spam[2:6])  #slicing"
      ],
      "metadata": {
        "colab": {
          "base_uri": "https://localhost:8080/"
        },
        "id": "cYJ2Zp2QogsC",
        "outputId": "fa229cc1-8fb0-4e13-b003-d85c0043bf90"
      },
      "execution_count": 22,
      "outputs": [
        {
          "output_type": "stream",
          "name": "stdout",
          "text": [
            "h\n",
            "o\n",
            "!\n",
            "hello\n",
            "hello\n",
            "#world!\n",
            "llo#\n"
          ]
        }
      ]
    },
    {
      "cell_type": "markdown",
      "source": [
        "**in and nor operators with strings**"
      ],
      "metadata": {
        "id": "AAgwdd-brk6s"
      }
    },
    {
      "cell_type": "code",
      "source": [
        "spam = 'hello' in 'hello world'\n",
        "spam"
      ],
      "metadata": {
        "colab": {
          "base_uri": "https://localhost:8080/"
        },
        "id": "cOPp70plrWqJ",
        "outputId": "caf8d92b-45eb-4f7e-aea5-9101fa49e380"
      },
      "execution_count": 23,
      "outputs": [
        {
          "output_type": "execute_result",
          "data": {
            "text/plain": [
              "True"
            ]
          },
          "metadata": {},
          "execution_count": 23
        }
      ]
    },
    {
      "cell_type": "code",
      "source": [
        "spam = 'hi' in 'hello world'\n",
        "spam"
      ],
      "metadata": {
        "colab": {
          "base_uri": "https://localhost:8080/"
        },
        "id": "JP5mzyUgr4u7",
        "outputId": "d2abf38d-7b26-4be0-bb9f-c3aca5401b61"
      },
      "execution_count": 25,
      "outputs": [
        {
          "output_type": "execute_result",
          "data": {
            "text/plain": [
              "False"
            ]
          },
          "metadata": {},
          "execution_count": 25
        }
      ]
    },
    {
      "cell_type": "code",
      "source": [
        "spam = 'hi' not in 'hello world'\n",
        "spam"
      ],
      "metadata": {
        "colab": {
          "base_uri": "https://localhost:8080/"
        },
        "id": "t2UGtB3NruwH",
        "outputId": "8ccadbae-8650-407f-acc9-09832ae4fa9c"
      },
      "execution_count": 24,
      "outputs": [
        {
          "output_type": "execute_result",
          "data": {
            "text/plain": [
              "True"
            ]
          },
          "metadata": {},
          "execution_count": 24
        }
      ]
    },
    {
      "cell_type": "code",
      "source": [
        "spam = 'hello' not in 'hello world'\n",
        "spam"
      ],
      "metadata": {
        "colab": {
          "base_uri": "https://localhost:8080/"
        },
        "id": "VbBU-Fzkr8e5",
        "outputId": "fd73619a-c335-4892-d7d9-b1bf8e24d314"
      },
      "execution_count": 26,
      "outputs": [
        {
          "output_type": "execute_result",
          "data": {
            "text/plain": [
              "False"
            ]
          },
          "metadata": {},
          "execution_count": 26
        }
      ]
    },
    {
      "cell_type": "markdown",
      "source": [
        "**The upper(),lower(),isupper()and islower()**"
      ],
      "metadata": {
        "id": "albwZflKsHvM"
      }
    },
    {
      "cell_type": "code",
      "source": [
        "spam = 'Hello World'\n",
        "spam = spam.upper()\n",
        "spam"
      ],
      "metadata": {
        "colab": {
          "base_uri": "https://localhost:8080/",
          "height": 36
        },
        "id": "cBy9G0esscHu",
        "outputId": "9b8f04d6-6a3b-44f2-a013-be74e8c9b22b"
      },
      "execution_count": 29,
      "outputs": [
        {
          "output_type": "execute_result",
          "data": {
            "text/plain": [
              "'HELLO WORLD'"
            ],
            "application/vnd.google.colaboratory.intrinsic+json": {
              "type": "string"
            }
          },
          "metadata": {},
          "execution_count": 29
        }
      ]
    },
    {
      "cell_type": "code",
      "source": [
        "spam = 'Hello World'\n",
        "spam = spam.lower()\n",
        "spam"
      ],
      "metadata": {
        "colab": {
          "base_uri": "https://localhost:8080/",
          "height": 36
        },
        "id": "SVwMdRRHs2rz",
        "outputId": "4c3fc803-112f-41ab-e754-4cd5f32df021"
      },
      "execution_count": 30,
      "outputs": [
        {
          "output_type": "execute_result",
          "data": {
            "text/plain": [
              "'hello world'"
            ],
            "application/vnd.google.colaboratory.intrinsic+json": {
              "type": "string"
            }
          },
          "metadata": {},
          "execution_count": 30
        }
      ]
    },
    {
      "cell_type": "code",
      "source": [
        "spam = 'Hello World'\n",
        "spam = spam.isupper()\n",
        "spam"
      ],
      "metadata": {
        "colab": {
          "base_uri": "https://localhost:8080/"
        },
        "id": "nlxqrAZRs81L",
        "outputId": "47da07b4-d5f6-4aab-9287-84fbcc3a054a"
      },
      "execution_count": 31,
      "outputs": [
        {
          "output_type": "execute_result",
          "data": {
            "text/plain": [
              "False"
            ]
          },
          "metadata": {},
          "execution_count": 31
        }
      ]
    },
    {
      "cell_type": "code",
      "source": [
        "spam = 'HELLO WORLD'\n",
        "spam = spam.isupper()\n",
        "spam"
      ],
      "metadata": {
        "colab": {
          "base_uri": "https://localhost:8080/"
        },
        "id": "Ahb2vbh3tCsN",
        "outputId": "fd4eb95a-a1b3-4762-82ce-25a895b24e24"
      },
      "execution_count": 33,
      "outputs": [
        {
          "output_type": "execute_result",
          "data": {
            "text/plain": [
              "True"
            ]
          },
          "metadata": {},
          "execution_count": 33
        }
      ]
    },
    {
      "cell_type": "code",
      "source": [
        "spam = 'Hello World'\n",
        "spam = spam.islower()\n",
        "spam"
      ],
      "metadata": {
        "colab": {
          "base_uri": "https://localhost:8080/"
        },
        "id": "NoK2ad7ktKlv",
        "outputId": "9ace8a94-f1a7-4939-b52c-3b6d4fd39a34"
      },
      "execution_count": 34,
      "outputs": [
        {
          "output_type": "execute_result",
          "data": {
            "text/plain": [
              "False"
            ]
          },
          "metadata": {},
          "execution_count": 34
        }
      ]
    },
    {
      "cell_type": "code",
      "source": [
        "spam = 'hello world'\n",
        "spam = spam.lower()\n",
        "spam"
      ],
      "metadata": {
        "colab": {
          "base_uri": "https://localhost:8080/",
          "height": 36
        },
        "id": "HDuWR2JttQy1",
        "outputId": "d4b4015a-c8e8-4836-d778-b7a8d7a8451f"
      },
      "execution_count": 35,
      "outputs": [
        {
          "output_type": "execute_result",
          "data": {
            "text/plain": [
              "'hello world'"
            ],
            "application/vnd.google.colaboratory.intrinsic+json": {
              "type": "string"
            }
          },
          "metadata": {},
          "execution_count": 35
        }
      ]
    }
  ]
}