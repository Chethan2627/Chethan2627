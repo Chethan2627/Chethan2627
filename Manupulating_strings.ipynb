{
  "nbformat": 4,
  "nbformat_minor": 0,
  "metadata": {
    "colab": {
      "provenance": [],
      "authorship_tag": "ABX9TyOpqxANsVYAlwO/6KFmpx2p",
      "include_colab_link": true
    },
    "kernelspec": {
      "name": "python3",
      "display_name": "Python 3"
    },
    "language_info": {
      "name": "python"
    }
  },
  "cells": [
    {
      "cell_type": "markdown",
      "metadata": {
        "id": "view-in-github",
        "colab_type": "text"
      },
      "source": [
        "<a href=\"https://colab.research.google.com/github/Chethan2627/Chethan2627/blob/main/Manupulating_strings.ipynb\" target=\"_parent\"><img src=\"https://colab.research.google.com/assets/colab-badge.svg\" alt=\"Open In Colab\"/></a>"
      ]
    },
    {
      "cell_type": "markdown",
      "source": [
        "**DOUBLE QOUTES**\n",
        "(\"  \")"
      ],
      "metadata": {
        "id": "OVchstCaP_up"
      }
    },
    {
      "cell_type": "code",
      "source": [
        "spam = \"That is Alice's cat.\"     # in double qoutes we can use single qoutes('')"
      ],
      "metadata": {
        "id": "OPKggR-3QVpu"
      },
      "execution_count": null,
      "outputs": []
    },
    {
      "cell_type": "markdown",
      "source": [
        "**ESCAPE CARACTERS** ( \\ )"
      ],
      "metadata": {
        "id": "WrO4ZVM0Q-Rr"
      }
    },
    {
      "cell_type": "code",
      "source": [
        "print('Says hi to BOB\\'s mother.')   #using the single qoutes in the single qoutes\n",
        "print(\"Says hi to BOB\\\"s mother.\")    #using the single qoutes in the single qoutes\n",
        "\n"
      ],
      "metadata": {
        "id": "PE3sy3GjRIBA",
        "colab": {
          "base_uri": "https://localhost:8080/"
        },
        "outputId": "5a12bcb9-78b4-432a-8b8b-638ae0b2953d"
      },
      "execution_count": null,
      "outputs": [
        {
          "output_type": "stream",
          "name": "stdout",
          "text": [
            "Says hi to BOB's mother.\n",
            "Says hi to BOB\"s mother.\n"
          ]
        }
      ]
    },
    {
      "cell_type": "code",
      "source": [
        "spam = \" HELLO THERE! \\n HOW ARE YOU? \\n DOING FINE \"     # Where \\n used as line barrier\n",
        "print(spam)"
      ],
      "metadata": {
        "colab": {
          "base_uri": "https://localhost:8080/"
        },
        "id": "rZZJZazjR9T8",
        "outputId": "e3f8e41c-06c9-4185-e37e-e47dc1dd2ef8"
      },
      "execution_count": null,
      "outputs": [
        {
          "output_type": "stream",
          "name": "stdout",
          "text": [
            " HELLO THERE! \n",
            " HOW ARE YOU? \n",
            " DOING FINE \n"
          ]
        }
      ]
    },
    {
      "cell_type": "code",
      "source": [
        "spam = \" HELLOTHERE!\\tHOW ARE YOU\\tDOING FINE \"     # Where \\t used as giving tab to clumsy or joined words\n",
        "print(spam)"
      ],
      "metadata": {
        "id": "-zJf5AvtTMX5",
        "colab": {
          "base_uri": "https://localhost:8080/"
        },
        "outputId": "1a2838ae-af0a-4f75-af32-0ee28bf3b0e7"
      },
      "execution_count": null,
      "outputs": [
        {
          "output_type": "stream",
          "name": "stdout",
          "text": [
            " HELLOTHERE!\tHOW ARE YOU\tDOING FINE \n"
          ]
        }
      ]
    },
    {
      "cell_type": "markdown",
      "source": [
        "**RAW STINGS**"
      ],
      "metadata": {
        "id": "hyGraZlSS1LN"
      }
    },
    {
      "cell_type": "code",
      "source": [
        "spam = r\" HELLOTHERE!\\tHOW ARE YOU\\tDOING FINE \"    # Where \\t used as giving tab to clumsy or joined word\n",
        "                                                       # >>>>>>>> r use before the strins it can't run escape characters\n",
        "print(spam)\n",
        "spam = r\" HELLO THERE! \\n HOW ARE YOU? \\n DOING FINE \"     # Where \\n used as line barrier\n",
        "print(spam)"
      ],
      "metadata": {
        "colab": {
          "base_uri": "https://localhost:8080/"
        },
        "outputId": "23687b4f-168a-4fc2-8d1b-528fad6849ba",
        "id": "2U8T1v-Tefva"
      },
      "execution_count": null,
      "outputs": [
        {
          "output_type": "stream",
          "name": "stdout",
          "text": [
            " HELLOTHERE!\\tHOW ARE YOU\\tDOING FINE \n",
            " HELLO THERE! \\n HOW ARE YOU? \\n DOING FINE \n"
          ]
        }
      ]
    },
    {
      "cell_type": "markdown",
      "source": [],
      "metadata": {
        "id": "-UECYF5hS8Jl"
      }
    },
    {
      "cell_type": "code",
      "source": [
        "print(''' HELLOTHERE!\\tHOW ARE YOU\\tDOING FINE HELLO THERE! \\n HOW ARE YOU? \\n DOING FINE ''') # in triple quuotes any quotes, tabs or new lines are considered as part of strins"
      ],
      "metadata": {
        "colab": {
          "base_uri": "https://localhost:8080/"
        },
        "id": "kYBkWsY0fcX4",
        "outputId": "25016fce-6b81-4f88-b12b-948abae977ff"
      },
      "execution_count": null,
      "outputs": [
        {
          "output_type": "stream",
          "name": "stdout",
          "text": [
            " HELLOTHERE!\tHOW ARE YOU\tDOING FINE HELLO THERE! \n",
            " HOW ARE YOU? \n",
            " DOING FINE \n"
          ]
        }
      ]
    },
    {
      "cell_type": "markdown",
      "source": [
        "**INDEXNG AND SLICING**"
      ],
      "metadata": {
        "id": "YXQT9wacohZs"
      }
    },
    {
      "cell_type": "code",
      "source": [
        "spam = 'hello#world!'\n",
        "print(spam[0])  #indexing\n",
        "print(spam[4])  #indexing\n",
        "print(spam[-1])  #indexing\n",
        "print(spam[:5]) #slicing\n",
        "print(spam[0:5]) #slicing\n",
        "print(spam[5:])  #slicing\n",
        "print(spam[2:6])  #slicing"
      ],
      "metadata": {
        "colab": {
          "base_uri": "https://localhost:8080/"
        },
        "id": "cYJ2Zp2QogsC",
        "outputId": "fa229cc1-8fb0-4e13-b003-d85c0043bf90"
      },
      "execution_count": null,
      "outputs": [
        {
          "output_type": "stream",
          "name": "stdout",
          "text": [
            "h\n",
            "o\n",
            "!\n",
            "hello\n",
            "hello\n",
            "#world!\n",
            "llo#\n"
          ]
        }
      ]
    },
    {
      "cell_type": "markdown",
      "source": [
        "**in and nor operators with strings**"
      ],
      "metadata": {
        "id": "AAgwdd-brk6s"
      }
    },
    {
      "cell_type": "code",
      "source": [
        "spam = 'hello' in 'hello world'\n",
        "spam"
      ],
      "metadata": {
        "colab": {
          "base_uri": "https://localhost:8080/"
        },
        "id": "cOPp70plrWqJ",
        "outputId": "caf8d92b-45eb-4f7e-aea5-9101fa49e380"
      },
      "execution_count": null,
      "outputs": [
        {
          "output_type": "execute_result",
          "data": {
            "text/plain": [
              "True"
            ]
          },
          "metadata": {},
          "execution_count": 23
        }
      ]
    },
    {
      "cell_type": "code",
      "source": [
        "spam = 'hi' in 'hello world'\n",
        "spam"
      ],
      "metadata": {
        "colab": {
          "base_uri": "https://localhost:8080/"
        },
        "id": "JP5mzyUgr4u7",
        "outputId": "d2abf38d-7b26-4be0-bb9f-c3aca5401b61"
      },
      "execution_count": null,
      "outputs": [
        {
          "output_type": "execute_result",
          "data": {
            "text/plain": [
              "False"
            ]
          },
          "metadata": {},
          "execution_count": 25
        }
      ]
    },
    {
      "cell_type": "code",
      "source": [
        "spam = 'hi' not in 'hello world'\n",
        "spam"
      ],
      "metadata": {
        "colab": {
          "base_uri": "https://localhost:8080/"
        },
        "id": "t2UGtB3NruwH",
        "outputId": "8ccadbae-8650-407f-acc9-09832ae4fa9c"
      },
      "execution_count": null,
      "outputs": [
        {
          "output_type": "execute_result",
          "data": {
            "text/plain": [
              "True"
            ]
          },
          "metadata": {},
          "execution_count": 24
        }
      ]
    },
    {
      "cell_type": "code",
      "source": [
        "spam = 'hello' not in 'hello world'\n",
        "spam"
      ],
      "metadata": {
        "colab": {
          "base_uri": "https://localhost:8080/"
        },
        "id": "VbBU-Fzkr8e5",
        "outputId": "fd73619a-c335-4892-d7d9-b1bf8e24d314"
      },
      "execution_count": null,
      "outputs": [
        {
          "output_type": "execute_result",
          "data": {
            "text/plain": [
              "False"
            ]
          },
          "metadata": {},
          "execution_count": 26
        }
      ]
    },
    {
      "cell_type": "markdown",
      "source": [
        "**The upper(),lower(),isupper()and islower()**"
      ],
      "metadata": {
        "id": "albwZflKsHvM"
      }
    },
    {
      "cell_type": "code",
      "source": [
        "spam = 'Hello World'\n",
        "spam = spam.upper()\n",
        "spam"
      ],
      "metadata": {
        "colab": {
          "base_uri": "https://localhost:8080/",
          "height": 36
        },
        "id": "cBy9G0esscHu",
        "outputId": "9b8f04d6-6a3b-44f2-a013-be74e8c9b22b"
      },
      "execution_count": null,
      "outputs": [
        {
          "output_type": "execute_result",
          "data": {
            "text/plain": [
              "'HELLO WORLD'"
            ],
            "application/vnd.google.colaboratory.intrinsic+json": {
              "type": "string"
            }
          },
          "metadata": {},
          "execution_count": 29
        }
      ]
    },
    {
      "cell_type": "code",
      "source": [
        "spam = 'Hello World'\n",
        "spam = spam.lower()\n",
        "spam"
      ],
      "metadata": {
        "colab": {
          "base_uri": "https://localhost:8080/",
          "height": 36
        },
        "id": "SVwMdRRHs2rz",
        "outputId": "4c3fc803-112f-41ab-e754-4cd5f32df021"
      },
      "execution_count": null,
      "outputs": [
        {
          "output_type": "execute_result",
          "data": {
            "text/plain": [
              "'hello world'"
            ],
            "application/vnd.google.colaboratory.intrinsic+json": {
              "type": "string"
            }
          },
          "metadata": {},
          "execution_count": 30
        }
      ]
    },
    {
      "cell_type": "code",
      "source": [
        "spam = 'Hello World'\n",
        "spam = spam.isupper()\n",
        "spam"
      ],
      "metadata": {
        "colab": {
          "base_uri": "https://localhost:8080/"
        },
        "id": "nlxqrAZRs81L",
        "outputId": "47da07b4-d5f6-4aab-9287-84fbcc3a054a"
      },
      "execution_count": null,
      "outputs": [
        {
          "output_type": "execute_result",
          "data": {
            "text/plain": [
              "False"
            ]
          },
          "metadata": {},
          "execution_count": 31
        }
      ]
    },
    {
      "cell_type": "code",
      "source": [
        "spam = 'HELLO WORLD'\n",
        "spam = spam.isupper()\n",
        "spam"
      ],
      "metadata": {
        "colab": {
          "base_uri": "https://localhost:8080/"
        },
        "id": "Ahb2vbh3tCsN",
        "outputId": "fd4eb95a-a1b3-4762-82ce-25a895b24e24"
      },
      "execution_count": null,
      "outputs": [
        {
          "output_type": "execute_result",
          "data": {
            "text/plain": [
              "True"
            ]
          },
          "metadata": {},
          "execution_count": 33
        }
      ]
    },
    {
      "cell_type": "code",
      "source": [
        "spam = 'Hello World'\n",
        "spam = spam.islower()\n",
        "spam"
      ],
      "metadata": {
        "colab": {
          "base_uri": "https://localhost:8080/"
        },
        "id": "NoK2ad7ktKlv",
        "outputId": "9ace8a94-f1a7-4939-b52c-3b6d4fd39a34"
      },
      "execution_count": null,
      "outputs": [
        {
          "output_type": "execute_result",
          "data": {
            "text/plain": [
              "False"
            ]
          },
          "metadata": {},
          "execution_count": 34
        }
      ]
    },
    {
      "cell_type": "code",
      "source": [
        "spam = 'hello world'\n",
        "spam = spam.lower()\n",
        "spam"
      ],
      "metadata": {
        "id": "HDuWR2JttQy1",
        "outputId": "d4b4015a-c8e8-4836-d778-b7a8d7a8451f",
        "colab": {
          "base_uri": "https://localhost:8080/",
          "height": 36
        }
      },
      "execution_count": null,
      "outputs": [
        {
          "output_type": "execute_result",
          "data": {
            "text/plain": [
              "'hello world'"
            ],
            "application/vnd.google.colaboratory.intrinsic+json": {
              "type": "string"
            }
          },
          "metadata": {},
          "execution_count": 35
        }
      ]
    },
    {
      "cell_type": "markdown",
      "source": [
        "**X STRING METHODS**"
      ],
      "metadata": {
        "id": "OG3VgwAkXUM7"
      }
    },
    {
      "cell_type": "markdown",
      "source": [
        "isalpha()"
      ],
      "metadata": {
        "id": "UXdzEbG5qTCm"
      }
    },
    {
      "cell_type": "code",
      "source": [
        "'hello'.isalpha()       #blank absent >>>>only letters >>>> not numbers  as true"
      ],
      "metadata": {
        "id": "DuUPSL8bV3Ma",
        "colab": {
          "base_uri": "https://localhost:8080/"
        },
        "outputId": "694a099f-2164-415f-db65-c1f076e3d3c8"
      },
      "execution_count": 5,
      "outputs": [
        {
          "output_type": "execute_result",
          "data": {
            "text/plain": [
              "True"
            ]
          },
          "metadata": {},
          "execution_count": 5
        }
      ]
    },
    {
      "cell_type": "code",
      "source": [
        "'hello world'.isalpha()            #blank and number present as false"
      ],
      "metadata": {
        "outputId": "f4412b7f-3c8f-45fd-a99f-5d46ca1ee35d",
        "colab": {
          "base_uri": "https://localhost:8080/"
        },
        "id": "t-S2Ywg_pbeJ"
      },
      "execution_count": 7,
      "outputs": [
        {
          "output_type": "execute_result",
          "data": {
            "text/plain": [
              "False"
            ]
          },
          "metadata": {},
          "execution_count": 7
        }
      ]
    },
    {
      "cell_type": "code",
      "source": [
        "'hello123'.isalpha()       #blank and number present as false"
      ],
      "metadata": {
        "colab": {
          "base_uri": "https://localhost:8080/"
        },
        "outputId": "0af5c836-7671-4dba-f4e5-0df3b93a0838",
        "id": "gt9Sdloap4Pl"
      },
      "execution_count": 6,
      "outputs": [
        {
          "output_type": "execute_result",
          "data": {
            "text/plain": [
              "False"
            ]
          },
          "metadata": {},
          "execution_count": 6
        }
      ]
    },
    {
      "cell_type": "markdown",
      "source": [
        "is alnum"
      ],
      "metadata": {
        "id": "meyOMyDjqVWT"
      }
    },
    {
      "cell_type": "code",
      "source": [
        "'hello123'.isalnum()       #  >>>> letters >>>>  numbers >>>> not blank as true"
      ],
      "metadata": {
        "colab": {
          "base_uri": "https://localhost:8080/"
        },
        "outputId": "ce0f557d-53cf-4729-a30d-25ab801ecf25",
        "id": "AISehji6qqAp"
      },
      "execution_count": 8,
      "outputs": [
        {
          "output_type": "execute_result",
          "data": {
            "text/plain": [
              "True"
            ]
          },
          "metadata": {},
          "execution_count": 8
        }
      ]
    },
    {
      "cell_type": "code",
      "source": [
        "'hello  123'.isalnum()       #  >>>> letters >>>>  numbers >>>> $ blank  present  as false"
      ],
      "metadata": {
        "colab": {
          "base_uri": "https://localhost:8080/"
        },
        "outputId": "a1b8295b-520a-4e84-d16a-f3dfa003ec6b",
        "id": "ro20YslishIr"
      },
      "execution_count": 9,
      "outputs": [
        {
          "output_type": "execute_result",
          "data": {
            "text/plain": [
              "False"
            ]
          },
          "metadata": {},
          "execution_count": 9
        }
      ]
    },
    {
      "cell_type": "markdown",
      "source": [
        ".isdecimal()"
      ],
      "metadata": {
        "id": "65JT8L0pvJ3T"
      }
    },
    {
      "cell_type": "code",
      "source": [
        "'12345'.isdecimal()      # only numbers not decimal numbers , not special characters, not letters  and not blank as true"
      ],
      "metadata": {
        "colab": {
          "base_uri": "https://localhost:8080/"
        },
        "id": "sfL6aKfcswoW",
        "outputId": "9ee5d5eb-8955-4dac-a008-e588a5af471a"
      },
      "execution_count": 16,
      "outputs": [
        {
          "output_type": "execute_result",
          "data": {
            "text/plain": [
              "True"
            ]
          },
          "metadata": {},
          "execution_count": 16
        }
      ]
    },
    {
      "cell_type": "code",
      "source": [
        "'1234.5'.isdecimal()      # only numbers >>> decimal numbers present , not  special characters,not letters and not blank as false"
      ],
      "metadata": {
        "colab": {
          "base_uri": "https://localhost:8080/"
        },
        "outputId": "f23dc856-d8ad-4e37-ad9a-133160f99804",
        "id": "gOBba8KZtn2-"
      },
      "execution_count": 17,
      "outputs": [
        {
          "output_type": "execute_result",
          "data": {
            "text/plain": [
              "False"
            ]
          },
          "metadata": {},
          "execution_count": 17
        }
      ]
    },
    {
      "cell_type": "code",
      "source": [
        "'abc12345'.isdecimal()      # only numbers not decimal numbers , not special characters, >>> letters present and not blank as false"
      ],
      "metadata": {
        "colab": {
          "base_uri": "https://localhost:8080/"
        },
        "outputId": "a3ea1543-5ecd-4e69-ed91-f885b1b0b534",
        "id": "3w1ASxnztsrj"
      },
      "execution_count": 19,
      "outputs": [
        {
          "output_type": "execute_result",
          "data": {
            "text/plain": [
              "False"
            ]
          },
          "metadata": {},
          "execution_count": 19
        }
      ]
    },
    {
      "cell_type": "code",
      "source": [
        "'abc 12345'.isdecimal()      # only numbers not decimal numbers , not special characters, not letters and >>> blank present  as false"
      ],
      "metadata": {
        "colab": {
          "base_uri": "https://localhost:8080/"
        },
        "outputId": "a3ea1543-5ecd-4e69-ed91-f885b1b0b534",
        "id": "cBWvMT8iuYLg"
      },
      "execution_count": null,
      "outputs": [
        {
          "output_type": "execute_result",
          "data": {
            "text/plain": [
              "False"
            ]
          },
          "metadata": {},
          "execution_count": 19
        }
      ]
    },
    {
      "cell_type": "markdown",
      "source": [
        "isspace()"
      ],
      "metadata": {
        "id": "cprzBRiMviKz"
      }
    },
    {
      "cell_type": "code",
      "source": [
        "' '.isspace()"
      ],
      "metadata": {
        "colab": {
          "base_uri": "https://localhost:8080/"
        },
        "id": "8efpt_ivvhOv",
        "outputId": "5e5d22d9-e611-4ae3-93bd-b1eb43d8f16c"
      },
      "execution_count": 20,
      "outputs": [
        {
          "output_type": "execute_result",
          "data": {
            "text/plain": [
              "True"
            ]
          },
          "metadata": {},
          "execution_count": 20
        }
      ]
    },
    {
      "cell_type": "code",
      "source": [
        "'a b'.isspace()"
      ],
      "metadata": {
        "colab": {
          "base_uri": "https://localhost:8080/"
        },
        "id": "Aos5tCiWvpcN",
        "outputId": "9046580c-3c8e-40d2-d47b-4130911fcadb"
      },
      "execution_count": 21,
      "outputs": [
        {
          "output_type": "execute_result",
          "data": {
            "text/plain": [
              "False"
            ]
          },
          "metadata": {},
          "execution_count": 21
        }
      ]
    },
    {
      "cell_type": "code",
      "source": [
        "'\\t'.isspace()"
      ],
      "metadata": {
        "colab": {
          "base_uri": "https://localhost:8080/"
        },
        "id": "PBu7esWdvv5K",
        "outputId": "1d5e0da6-c405-45ee-8a7e-6e4979d130fe"
      },
      "execution_count": 25,
      "outputs": [
        {
          "output_type": "execute_result",
          "data": {
            "text/plain": [
              "True"
            ]
          },
          "metadata": {},
          "execution_count": 25
        }
      ]
    },
    {
      "cell_type": "code",
      "source": [
        "'a\\tb'.isspace()     #tab as blank"
      ],
      "metadata": {
        "colab": {
          "base_uri": "https://localhost:8080/"
        },
        "outputId": "cfc3a4aa-cc87-4198-f0cb-a7122a269999",
        "id": "1vkc49YdwLn9"
      },
      "execution_count": 26,
      "outputs": [
        {
          "output_type": "execute_result",
          "data": {
            "text/plain": [
              "False"
            ]
          },
          "metadata": {},
          "execution_count": 26
        }
      ]
    },
    {
      "cell_type": "code",
      "source": [
        "' '.isspace()   #tab"
      ],
      "metadata": {
        "colab": {
          "base_uri": "https://localhost:8080/"
        },
        "id": "ODzUkevwv4Vv",
        "outputId": "16c32432-44d8-4e39-84b5-0c2acd7f5534"
      },
      "execution_count": 27,
      "outputs": [
        {
          "output_type": "execute_result",
          "data": {
            "text/plain": [
              "True"
            ]
          },
          "metadata": {},
          "execution_count": 27
        }
      ]
    },
    {
      "cell_type": "code",
      "source": [
        "'\\n'.isspace()     #newline"
      ],
      "metadata": {
        "colab": {
          "base_uri": "https://localhost:8080/"
        },
        "id": "wsdfTDfMwUBe",
        "outputId": "0dd612b9-2f5a-4251-893b-eb03c2b75f60"
      },
      "execution_count": 28,
      "outputs": [
        {
          "output_type": "execute_result",
          "data": {
            "text/plain": [
              "True"
            ]
          },
          "metadata": {},
          "execution_count": 28
        }
      ]
    },
    {
      "cell_type": "code",
      "source": [
        "'a\\nb'.isspace()     #newline as blank"
      ],
      "metadata": {
        "colab": {
          "base_uri": "https://localhost:8080/"
        },
        "outputId": "1063e94e-fb61-4b27-801d-31e81c296cac",
        "id": "cxx0dfACwc0w"
      },
      "execution_count": 30,
      "outputs": [
        {
          "output_type": "execute_result",
          "data": {
            "text/plain": [
              "False"
            ]
          },
          "metadata": {},
          "execution_count": 30
        }
      ]
    },
    {
      "cell_type": "markdown",
      "source": [
        "istittle()"
      ],
      "metadata": {
        "id": "371I2qxNwsbo"
      }
    },
    {
      "cell_type": "code",
      "source": [
        "'The Is Tittle 123'.istitle()   # every word in sentence begin with uppercase and followed by lower case  as true"
      ],
      "metadata": {
        "colab": {
          "base_uri": "https://localhost:8080/"
        },
        "id": "Snf58PSGw04c",
        "outputId": "c73e12f8-99eb-40a0-ddb4-72d75bf71486"
      },
      "execution_count": 32,
      "outputs": [
        {
          "output_type": "execute_result",
          "data": {
            "text/plain": [
              "True"
            ]
          },
          "metadata": {},
          "execution_count": 32
        }
      ]
    },
    {
      "cell_type": "code",
      "source": [
        "'The Is TittlE 123'.istitle()   # every word in sentence begin with uppercase and followed by >>> not lower case  as false"
      ],
      "metadata": {
        "colab": {
          "base_uri": "https://localhost:8080/"
        },
        "outputId": "7036bcbf-5af3-4ef8-91fc-dc0499424e8c",
        "id": "srHKXpbaxUub"
      },
      "execution_count": 33,
      "outputs": [
        {
          "output_type": "execute_result",
          "data": {
            "text/plain": [
              "False"
            ]
          },
          "metadata": {},
          "execution_count": 33
        }
      ]
    },
    {
      "cell_type": "code",
      "source": [
        "'the Is tittle 123'.istitle()   # every word in sentence >>> not begin with uppercase and followed by lower case as false"
      ],
      "metadata": {
        "colab": {
          "base_uri": "https://localhost:8080/"
        },
        "outputId": "486f46da-d18f-4901-8c55-3d109223aca9",
        "id": "XxA9t9IExkHO"
      },
      "execution_count": 34,
      "outputs": [
        {
          "output_type": "execute_result",
          "data": {
            "text/plain": [
              "False"
            ]
          },
          "metadata": {},
          "execution_count": 34
        }
      ]
    }
  ]
}