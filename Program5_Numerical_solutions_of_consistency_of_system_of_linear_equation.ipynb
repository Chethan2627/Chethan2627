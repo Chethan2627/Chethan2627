{
  "nbformat": 4,
  "nbformat_minor": 0,
  "metadata": {
    "colab": {
      "provenance": [],
      "authorship_tag": "ABX9TyNTHAuRFCvb6FYIcu6xvmMT",
      "include_colab_link": true
    },
    "kernelspec": {
      "name": "python3",
      "display_name": "Python 3"
    },
    "language_info": {
      "name": "python"
    }
  },
  "cells": [
    {
      "cell_type": "markdown",
      "metadata": {
        "id": "view-in-github",
        "colab_type": "text"
      },
      "source": [
        "<a href=\"https://colab.research.google.com/github/Chethan2627/Chethan2627/blob/main/Program5_Numerical_solutions_of_consistency_of_system_of_linear_equation.ipynb\" target=\"_parent\"><img src=\"https://colab.research.google.com/assets/colab-badge.svg\" alt=\"Open In Colab\"/></a>"
      ]
    },
    {
      "cell_type": "markdown",
      "source": [
        "1) Test the consistency and solve 2x+y+z=5, x+y+z=4, x-y+2z=1"
      ],
      "metadata": {
        "id": "4H2M8F49V96E"
      }
    },
    {
      "cell_type": "code",
      "source": [
        "import sympy as sp\n",
        "x,y,z = sp.symbols('x y z')\n",
        "A = sp.Matrix([[2,1,1],[1,1,1],[1,-1,2]])\n",
        "B = sp.Matrix([[5],[4],[1]])\n",
        "AB = A.col_insert(A.shape[1],B)\n",
        "rA = A.rank()\n",
        "rAB=AB.rank()\n",
        "n=A.shape[1]\n",
        "print(\"THe coefficient matrix=\")\n",
        "sp.pprint(A)\n",
        "print(f\"The rank of co efficient of matrix = {rA}\")\n",
        "print(\" The Augumented matrix = \")\n",
        "sp.pprint(AB)\n",
        "print(f\"The rank of augmented matrix = {rAB}\")\n",
        "print(f\"The number of unknowns are {n}\")\n",
        "if(rA==rAB):\n",
        "  if(rA==n):\n",
        "    print(\"The system has unique solution\")\n",
        "  else:\n",
        "    print(\"The system has infinite solution\")\n",
        "  print(sp.solve_linear_system(AB,x,y,z))\n",
        "else:\n",
        "  print(\"The system of equations is inconsistent\")\n"
      ],
      "metadata": {
        "colab": {
          "base_uri": "https://localhost:8080/"
        },
        "id": "nZXoFc-VWX04",
        "outputId": "95bca708-1e65-4cf8-db95-192858ce3230"
      },
      "execution_count": null,
      "outputs": [
        {
          "output_type": "stream",
          "name": "stdout",
          "text": [
            "THe coefficient matrix=\n",
            "⎡2  1   1⎤\n",
            "⎢        ⎥\n",
            "⎢1  1   1⎥\n",
            "⎢        ⎥\n",
            "⎣1  -1  2⎦\n",
            "The rank of co efficient of matrix = 3\n",
            " The Augumented matrix = \n",
            "⎡2  1   1  5⎤\n",
            "⎢           ⎥\n",
            "⎢1  1   1  4⎥\n",
            "⎢           ⎥\n",
            "⎣1  -1  2  1⎦\n",
            "The rank of augmented matrix = 3\n",
            "The number of unknowns are 3\n",
            "The system has unique solution\n",
            "{x: 1, y: 2, z: 1}\n"
          ]
        }
      ]
    },
    {
      "cell_type": "markdown",
      "source": [
        "x+y+z=6, x+2y+3z=14, x+4y+7z=30"
      ],
      "metadata": {
        "id": "B2z1b_7Kezod"
      }
    },
    {
      "cell_type": "code",
      "source": [],
      "metadata": {
        "id": "X6CEVKu3fDVC"
      },
      "execution_count": null,
      "outputs": []
    },
    {
      "cell_type": "code",
      "source": [
        "import sympy as sp\n",
        "x,y,z = sp.symbols('x y z')\n",
        "A = sp.Matrix([[1,1,1],[1,2,3],[1,4,7]])\n",
        "B = sp.Matrix([[6],[14],[30]])\n",
        "AB = A.col_insert(A.shape[1],B)\n",
        "rA = A.rank()\n",
        "rAB=AB.rank()\n",
        "n=A.shape[1]\n",
        "print(\"THe coefficient matrix=\")\n",
        "sp.pprint(A)\n",
        "print(f\"The rank of co efficient of matrix = {rA}\")\n",
        "print(\" The Augumented matrix = \")\n",
        "sp.pprint(AB)\n",
        "print(f\"The rank of augmented matrix = {rAB}\")\n",
        "print(f\"The number of unknowns are {n}\")\n",
        "if(rA==rAB):\n",
        "  if(rA==n):\n",
        "    print(\"The system has unique solution\")\n",
        "  else:\n",
        "    print(\"The system has infinite solution\")\n",
        "  print(sp.solve_linear_system(AB,x,y,z))\n",
        "else:\n",
        "  print(\"The system of equations is inconsistent\")\n"
      ],
      "metadata": {
        "colab": {
          "base_uri": "https://localhost:8080/"
        },
        "outputId": "9ac54da2-1d28-443f-a766-6faa1afa7338",
        "id": "VaUjLwngfERT"
      },
      "execution_count": null,
      "outputs": [
        {
          "output_type": "stream",
          "name": "stdout",
          "text": [
            "THe coefficient matrix=\n",
            "⎡1  1  1⎤\n",
            "⎢       ⎥\n",
            "⎢1  2  3⎥\n",
            "⎢       ⎥\n",
            "⎣1  4  7⎦\n",
            "The rank of co efficient of matrix = 2\n",
            " The Augumented matrix = \n",
            "⎡1  1  1  6 ⎤\n",
            "⎢           ⎥\n",
            "⎢1  2  3  14⎥\n",
            "⎢           ⎥\n",
            "⎣1  4  7  30⎦\n",
            "The rank of augmented matrix = 2\n",
            "The number of unknowns are 3\n",
            "The system has infinite solution\n",
            "{x: z - 2, y: 8 - 2*z}\n"
          ]
        }
      ]
    },
    {
      "cell_type": "markdown",
      "source": [
        "x-4y+7z=14, 3x+8y-2z=13, 7x-8y+26z=5"
      ],
      "metadata": {
        "id": "eYZdi78EgKi5"
      }
    },
    {
      "cell_type": "code",
      "source": [
        "import sympy as sp\n",
        "x,y,z = sp.symbols('x y z')\n",
        "A = sp.Matrix([[1,-4,7],[3,8,-2],[7,-8,26]])\n",
        "B = sp.Matrix([[14],[13],[5]])\n",
        "AB = A.col_insert(A.shape[1],B)\n",
        "rA = A.rank()\n",
        "rAB=AB.rank()\n",
        "n=A.shape[1]\n",
        "print(\"THe coefficient matrix=\")\n",
        "sp.pprint(A)\n",
        "print(f\"The rank of co efficient of matrix = {rA}\")\n",
        "print(\" The Augumented matrix = \")\n",
        "sp.pprint(AB)\n",
        "print(f\"The rank of augmented matrix = {rAB}\")\n",
        "print(f\"The number of unknowns are {n}\")\n",
        "if(rA==rAB):\n",
        "  if(rA==n):\n",
        "    print(\"The system has unique solution\")\n",
        "  else:\n",
        "    print(\"The system has infinite solution\")\n",
        "  print(sp.solve_linear_system(AB,x,y,z))\n",
        "else:\n",
        "  print(\"The system of equations is inconsistent\")\n"
      ],
      "metadata": {
        "colab": {
          "base_uri": "https://localhost:8080/"
        },
        "outputId": "b98eae81-6bc4-4d0d-e551-1f5f695a33cd",
        "id": "vAAXmygZgei1"
      },
      "execution_count": null,
      "outputs": [
        {
          "output_type": "stream",
          "name": "stdout",
          "text": [
            "THe coefficient matrix=\n",
            "⎡1  -4  7 ⎤\n",
            "⎢         ⎥\n",
            "⎢3  8   -2⎥\n",
            "⎢         ⎥\n",
            "⎣7  -8  26⎦\n",
            "The rank of co efficient of matrix = 2\n",
            " The Augumented matrix = \n",
            "⎡1  -4  7   14⎤\n",
            "⎢             ⎥\n",
            "⎢3  8   -2  13⎥\n",
            "⎢             ⎥\n",
            "⎣7  -8  26  5 ⎦\n",
            "The rank of augmented matrix = 3\n",
            "The number of unknowns are 3\n",
            "The system of equations is inconsistent\n"
          ]
        }
      ]
    }
  ]
}