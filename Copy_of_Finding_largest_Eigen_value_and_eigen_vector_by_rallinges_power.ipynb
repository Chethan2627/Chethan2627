{
  "nbformat": 4,
  "nbformat_minor": 0,
  "metadata": {
    "colab": {
      "provenance": [],
      "authorship_tag": "ABX9TyO/vlaZCpjAzqDS+zvJVoLi",
      "include_colab_link": true
    },
    "kernelspec": {
      "name": "python3",
      "display_name": "Python 3"
    },
    "language_info": {
      "name": "python"
    }
  },
  "cells": [
    {
      "cell_type": "markdown",
      "metadata": {
        "id": "view-in-github",
        "colab_type": "text"
      },
      "source": [
        "<a href=\"https://colab.research.google.com/github/Chethan2627/Chethan2627/blob/main/Copy_of_Finding_largest_Eigen_value_and_eigen_vector_by_rallinges_power.ipynb\" target=\"_parent\"><img src=\"https://colab.research.google.com/assets/colab-badge.svg\" alt=\"Open In Colab\"/></a>"
      ]
    },
    {
      "cell_type": "markdown",
      "source": [
        "Finding largest Eigen value and eigen vector For A [ 1 9 8, 2 7 6, 7 20 9]\n",
        "taking initial eigen vector X =[4 2 -8]"
      ],
      "metadata": {
        "id": "ETd3kPm4nDrG"
      }
    },
    {
      "cell_type": "code",
      "source": [
        "import numpy as np\n",
        "from numpy.linalg import eig\n",
        "A=np.array([[1,9,8],[2,7,6],[7,20,9]])\n",
        "X=np.array([4,2,-8])\n",
        "print(\"\\n Given Matrix:\\n\",A)\n",
        "print(\"\\n Given initial eigen vector:\\n\",X)\n",
        "max_iterations=10\n",
        "for i in range(max_iterations):\n",
        "  X=np.dot(A,X)\n",
        "  eigenValue = np.linalg.norm(X)\n",
        "  X =X/eigenValue\n",
        "  print(eigenValue,X)\n",
        "print('largent eigen value:',eigenValue)\n",
        "print('corresponding eigen vectot:',X)"
      ],
      "metadata": {
        "colab": {
          "base_uri": "https://localhost:8080/"
        },
        "id": "eyDQYCDCnvSv",
        "outputId": "55ff7517-59c0-4b0a-82cb-f5da3748b538"
      },
      "execution_count": null,
      "outputs": [
        {
          "output_type": "stream",
          "name": "stdout",
          "text": [
            "\n",
            " Given Matrix:\n",
            " [[ 1  9  8]\n",
            " [ 2  7  6]\n",
            " [ 7 20  9]]\n",
            "\n",
            " Given initial eigen vector:\n",
            " [ 4  2 -8]\n",
            "49.558046773455466 [-0.84749103 -0.5246373  -0.08071343]\n",
            "19.158434242021535 [-0.32439677 -0.30543852 -0.89525083]\n",
            "21.011661702390843 [-0.48712711 -0.3882781  -0.7822706 ]\n",
            "22.516527253707686 [-0.45476795 -0.37242975 -0.80900074]\n",
            "22.284328788073974 [-0.46124977 -0.37562489 -0.80383741]\n",
            "22.333684243756068 [-0.45995873 -0.37498955 -0.80487316]\n",
            "22.323968911925764 [-0.4602161  -0.37511624 -0.80466698]\n",
            "22.325910091721582 [-0.46016481 -0.37509099 -0.80470808]\n",
            "22.325523375976115 [-0.46017503 -0.37509602 -0.80469989]\n",
            "22.32560046229768 [-0.46017299 -0.37509502 -0.80470152]\n",
            "largent eigen value: 22.32560046229768\n",
            "corresponding eigen vectot: [-0.46017299 -0.37509502 -0.80470152]\n"
          ]
        }
      ]
    },
    {
      "cell_type": "markdown",
      "source": [
        "Finding largest Eigen value and eigen vector For A [ 25 1 2 , 1 3 0, 2 0 -4]\n",
        "taking initial eigen vector X =[1 0 0]"
      ],
      "metadata": {
        "id": "3KU-v_QcuGIR"
      }
    },
    {
      "cell_type": "code",
      "source": [
        "\n",
        "import numpy as np\n",
        "from numpy.linalg import eig\n",
        "A=np.array([[25,1,2],[1,3,0],[2,0,-4]])\n",
        "X=np.array([1,0,0])\n",
        "print(\"\\n Given Matrix:\\n\",A)\n",
        "print(\"\\n Given initial eigen vector:\\n\",X)\n",
        "max_iterations=5\n",
        "for i in range(max_iterations):\n",
        "  X=np.dot(A,X)\n",
        "  eigenValue = np.linalg.norm(X)\n",
        "  X =X/eigenValue\n",
        "  print(eigenValue,X)\n",
        "print('largent eigen value:',eigenValue)\n",
        "print('corresponding eigen vectot:',X)"
      ],
      "metadata": {
        "colab": {
          "base_uri": "https://localhost:8080/"
        },
        "id": "txJsnW4FugNb",
        "outputId": "9f7ca7e7-923a-418a-a932-98bcab6762f5"
      },
      "execution_count": null,
      "outputs": [
        {
          "output_type": "stream",
          "name": "stdout",
          "text": [
            "\n",
            " Given Matrix:\n",
            " [[25  1  2]\n",
            " [ 1  3  0]\n",
            " [ 2  0 -4]]\n",
            "\n",
            " Given initial eigen vector:\n",
            " [1 0 0]\n",
            "25.099800796022265 [0.99602384 0.03984095 0.07968191]\n",
            "25.18023916575147 [0.9968055  0.04430247 0.0664537 ]\n",
            "25.18210418038798 [0.99663424 0.04486174 0.06861207]\n",
            "25.18215016294369 [0.99665603 0.04492148 0.0682555 ]\n",
            "25.18215134417317 [0.99665167 0.04492946 0.06831386]\n",
            "largent eigen value: 25.18215134417317\n",
            "corresponding eigen vectot: [0.99665167 0.04492946 0.06831386]\n"
          ]
        }
      ]
    },
    {
      "cell_type": "markdown",
      "source": [
        "Finding largest Eigen value and eigen vector For A [ 2 -1 0, -1 2 -1, 0 -1 2] taking initial eigen vector X =[1 1 1]"
      ],
      "metadata": {
        "id": "HuR01NOkvCOZ"
      }
    },
    {
      "cell_type": "code",
      "source": [
        "import numpy as np\n",
        "from numpy.linalg import eig\n",
        "A=np.array([[2,-1,0],[-1,2,-1],[0,-1,2]])\n",
        "X=np.array([1,1,1])\n",
        "print(\"\\n Given Matrix:\\n\",A)\n",
        "print(\"\\n Given initial eigen vector:\\n\",X)\n",
        "max_iterations=6\n",
        "for i in range(max_iterations):\n",
        "  X=np.dot(A,X)\n",
        "  eigenValue = np.linalg.norm(X)\n",
        "  X =X/eigenValue\n",
        "  print(eigenValue,X)\n",
        "print('largent eigen value:',eigenValue)\n",
        "print('corresponding eigen vectot:',X)"
      ],
      "metadata": {
        "colab": {
          "base_uri": "https://localhost:8080/"
        },
        "id": "gYEOkTmUvSFy",
        "outputId": "d13315b2-6a0e-44f5-9bc2-6cc19f98ca5b"
      },
      "execution_count": null,
      "outputs": [
        {
          "output_type": "stream",
          "name": "stdout",
          "text": [
            "\n",
            " Given Matrix:\n",
            " [[ 2 -1  0]\n",
            " [-1  2 -1]\n",
            " [ 0 -1  2]]\n",
            "\n",
            " Given initial eigen vector:\n",
            " [1 1 1]\n",
            "1.4142135623730951 [0.70710678 0.         0.70710678]\n",
            "2.449489742783178 [ 0.57735027 -0.57735027  0.57735027]\n",
            "3.3665016461206925 [ 0.51449576 -0.68599434  0.51449576]\n",
            "3.412778753967126 [ 0.50251891 -0.70352647  0.50251891]\n",
            "3.414171298655891 [ 0.50043309 -0.70649377  0.50043309]\n",
            "3.4142123182220936 [ 0.50007433 -0.70700164  0.50007433]\n",
            "largent eigen value: 3.4142123182220936\n",
            "corresponding eigen vectot: [ 0.50007433 -0.70700164  0.50007433]\n"
          ]
        }
      ]
    }
  ]
}