{
  "nbformat": 4,
  "nbformat_minor": 0,
  "metadata": {
    "colab": {
      "provenance": [],
      "authorship_tag": "ABX9TyOdaqlo9WcjRrN1Dn1a/1It",
      "include_colab_link": true
    },
    "kernelspec": {
      "name": "python3",
      "display_name": "Python 3"
    },
    "language_info": {
      "name": "python"
    }
  },
  "cells": [
    {
      "cell_type": "markdown",
      "metadata": {
        "id": "view-in-github",
        "colab_type": "text"
      },
      "source": [
        "<a href=\"https://colab.research.google.com/github/Chethan2627/Chethan2627/blob/main/PythonLab.ipynb\" target=\"_parent\"><img src=\"https://colab.research.google.com/assets/colab-badge.svg\" alt=\"Open In Colab\"/></a>"
      ]
    },
    {
      "cell_type": "code",
      "source": [
        "4==5"
      ],
      "metadata": {
        "colab": {
          "base_uri": "https://localhost:8080/"
        },
        "id": "cVJKf9BhOfDX",
        "outputId": "0e2a4bee-46d7-41ca-8cb5-57b468b0bd10"
      },
      "execution_count": 5,
      "outputs": [
        {
          "output_type": "execute_result",
          "data": {
            "text/plain": [
              "False"
            ]
          },
          "metadata": {},
          "execution_count": 5
        }
      ]
    },
    {
      "cell_type": "code",
      "source": [
        "2!=3"
      ],
      "metadata": {
        "colab": {
          "base_uri": "https://localhost:8080/"
        },
        "id": "ZGAPaw9HOkpN",
        "outputId": "22f80fd2-0bd9-4c36-fff2-a9bdf52d20a8"
      },
      "execution_count": 6,
      "outputs": [
        {
          "output_type": "execute_result",
          "data": {
            "text/plain": [
              "True"
            ]
          },
          "metadata": {},
          "execution_count": 6
        }
      ]
    },
    {
      "cell_type": "code",
      "source": [
        "(4<5) and (5<6)"
      ],
      "metadata": {
        "colab": {
          "base_uri": "https://localhost:8080/"
        },
        "id": "rR2ZCGVlOxol",
        "outputId": "38d524a5-bc80-4848-fd18-28f70b88b6f8"
      },
      "execution_count": 7,
      "outputs": [
        {
          "output_type": "execute_result",
          "data": {
            "text/plain": [
              "True"
            ]
          },
          "metadata": {},
          "execution_count": 7
        }
      ]
    },
    {
      "cell_type": "code",
      "source": [
        "(4<5) and (9<6)"
      ],
      "metadata": {
        "colab": {
          "base_uri": "https://localhost:8080/"
        },
        "id": "7R0VxsYaPAQc",
        "outputId": "2463cce0-f428-4d0c-d4b2-f1578f141308"
      },
      "execution_count": 8,
      "outputs": [
        {
          "output_type": "execute_result",
          "data": {
            "text/plain": [
              "False"
            ]
          },
          "metadata": {},
          "execution_count": 8
        }
      ]
    },
    {
      "cell_type": "code",
      "source": [
        "(1==6) or (2==2)\n"
      ],
      "metadata": {
        "colab": {
          "base_uri": "https://localhost:8080/"
        },
        "id": "xfl0d150PAm2",
        "outputId": "19abce47-0d01-4c9c-ac05-96cb0c7e2536"
      },
      "execution_count": 9,
      "outputs": [
        {
          "output_type": "execute_result",
          "data": {
            "text/plain": [
              "True"
            ]
          },
          "metadata": {},
          "execution_count": 9
        }
      ]
    },
    {
      "cell_type": "code",
      "source": [
        "not((5>4) or (3==5))"
      ],
      "metadata": {
        "colab": {
          "base_uri": "https://localhost:8080/"
        },
        "id": "BMMJX6bAQF6e",
        "outputId": "af7c07a3-f876-4b0d-ef6e-b4570f650956"
      },
      "execution_count": 15,
      "outputs": [
        {
          "output_type": "execute_result",
          "data": {
            "text/plain": [
              "False"
            ]
          },
          "metadata": {},
          "execution_count": 15
        }
      ]
    },
    {
      "cell_type": "code",
      "source": [
        "(True and True) and (True == False )"
      ],
      "metadata": {
        "colab": {
          "base_uri": "https://localhost:8080/"
        },
        "id": "8t1cDysHPdQF",
        "outputId": "2658d9c1-204d-413b-ff02-42af48fec083"
      },
      "execution_count": 13,
      "outputs": [
        {
          "output_type": "execute_result",
          "data": {
            "text/plain": [
              "False"
            ]
          },
          "metadata": {},
          "execution_count": 13
        }
      ]
    },
    {
      "cell_type": "code",
      "source": [
        "(not False) or (not True)\n"
      ],
      "metadata": {
        "colab": {
          "base_uri": "https://localhost:8080/"
        },
        "id": "3XrDANEjQbFr",
        "outputId": "18fe068a-d44b-4f7f-d4b4-270dd80565c1"
      },
      "execution_count": 16,
      "outputs": [
        {
          "output_type": "execute_result",
          "data": {
            "text/plain": [
              "True"
            ]
          },
          "metadata": {},
          "execution_count": 16
        }
      ]
    },
    {
      "cell_type": "code",
      "source": [
        "a=5\n",
        "if a==10:\n",
        " print('equal to')\n",
        "print('hello')"
      ],
      "metadata": {
        "colab": {
          "base_uri": "https://localhost:8080/"
        },
        "id": "iEPG1G-uNcuA",
        "outputId": "9574cf74-52fe-42c4-e832-e6d013164f99"
      },
      "execution_count": 18,
      "outputs": [
        {
          "output_type": "stream",
          "name": "stdout",
          "text": [
            "hello\n"
          ]
        }
      ]
    },
    {
      "cell_type": "markdown",
      "source": [
        "Write a program to read your age and check weather the person is eligible to vote or not?"
      ],
      "metadata": {
        "id": "1PVWrjsxRa6o"
      }
    },
    {
      "cell_type": "markdown",
      "source": [
        "1) For eligibility"
      ],
      "metadata": {
        "id": "6VLjTM3zX7Cv"
      }
    },
    {
      "cell_type": "code",
      "source": [
        "print('Enter your age ')\n",
        "age= int(input())\n",
        "if age >= 18:\n",
        " print(' your are eligible to vote ')\n",
        ""
      ],
      "metadata": {
        "colab": {
          "base_uri": "https://localhost:8080/"
        },
        "id": "AWtv5tXTRp2z",
        "outputId": "cbf58916-bc9b-46b9-de9b-9f7d63be103a"
      },
      "execution_count": 24,
      "outputs": [
        {
          "output_type": "stream",
          "name": "stdout",
          "text": [
            "Enter your age \n",
            "18\n",
            " your are eligible to vote \n"
          ]
        }
      ]
    },
    {
      "cell_type": "markdown",
      "source": [
        "2) For not eiligiblity"
      ],
      "metadata": {
        "id": "K5C2o7alYBrg"
      }
    },
    {
      "cell_type": "code",
      "source": [
        "print('Enter your age ')\n",
        "age= int(input())\n",
        "if age >= 18:\n",
        " print(' your are eligible to vote ')\n",
        "else:\n",
        " print(' you are not eligible for vote')\n"
      ],
      "metadata": {
        "colab": {
          "base_uri": "https://localhost:8080/"
        },
        "outputId": "33deb15f-407d-4a42-9765-2a565b95b9fe",
        "id": "DLX_skXUYZpu"
      },
      "execution_count": 35,
      "outputs": [
        {
          "output_type": "stream",
          "name": "stdout",
          "text": [
            "Enter your age \n",
            "17\n",
            " you are not eligible for vote\n"
          ]
        }
      ]
    },
    {
      "cell_type": "markdown",
      "source": [
        "Write a program to read the marks bof subject and check weather the student pass or not?"
      ],
      "metadata": {
        "id": "FXMATR7MTpzo"
      }
    },
    {
      "cell_type": "markdown",
      "source": [
        "1) For pass\n"
      ],
      "metadata": {
        "id": "zmZmuugJWzna"
      }
    },
    {
      "cell_type": "code",
      "source": [
        "print('enter the marks of a student')\n",
        "marks = int(input())\n",
        "if marks >= 35:\n",
        "  print('student is pass')"
      ],
      "metadata": {
        "colab": {
          "base_uri": "https://localhost:8080/"
        },
        "id": "2eG3luIMVb17",
        "outputId": "e74066ab-f14c-46b1-db32-1edbadddb9e8"
      },
      "execution_count": 30,
      "outputs": [
        {
          "output_type": "stream",
          "name": "stdout",
          "text": [
            "enter the marks of a student\n",
            "36\n",
            "student is pass\n"
          ]
        }
      ]
    },
    {
      "cell_type": "markdown",
      "source": [
        "2) For fail\n"
      ],
      "metadata": {
        "id": "NEc12XRZW6Dh"
      }
    },
    {
      "cell_type": "code",
      "source": [
        "\n",
        "print('enter the marks of a student')\n",
        "marks = int(input())\n",
        "if marks >= 35:\n",
        "   print('student is pass')\n",
        "if marks < 35:\n",
        " print('student is fail')\n",
        "\n",
        ""
      ],
      "metadata": {
        "colab": {
          "base_uri": "https://localhost:8080/"
        },
        "id": "VJBG3GP5TY7A",
        "outputId": "21cf712f-1a55-40a4-c266-70718203281d"
      },
      "execution_count": 31,
      "outputs": [
        {
          "output_type": "stream",
          "name": "stdout",
          "text": [
            "enter the marks of a student\n",
            "25\n",
            "student is fail\n"
          ]
        }
      ]
    },
    {
      "cell_type": "markdown",
      "source": [
        "                                                     \n",
        "                                                    **OR**"
      ],
      "metadata": {
        "id": "u3Yi7Y0YV68j"
      }
    },
    {
      "cell_type": "code",
      "source": [
        "print('enter the marks of a student')\n",
        "marks = int(input())\n",
        "if marks >= 35:\n",
        "   print('student is pass')\n",
        "else:\n",
        "  print('student is failed')"
      ],
      "metadata": {
        "colab": {
          "base_uri": "https://localhost:8080/"
        },
        "id": "X1qJNDtTWLPg",
        "outputId": "087c2619-ed51-48c8-e13f-9c715706b5dd"
      },
      "execution_count": 32,
      "outputs": [
        {
          "output_type": "stream",
          "name": "stdout",
          "text": [
            "enter the marks of a student\n",
            "32\n",
            "student is failed\n"
          ]
        }
      ]
    },
    {
      "cell_type": "markdown",
      "source": [
        "Print and input statement in SINGLE LINE"
      ],
      "metadata": {
        "id": "smPHzEIQaf18"
      }
    },
    {
      "cell_type": "code",
      "source": [
        "marks = int(input('enter the marks of a student'))\n",
        "if marks >= 35:\n",
        "   print('student is pass')\n",
        "else:\n",
        "  print('student is failed')"
      ],
      "metadata": {
        "colab": {
          "base_uri": "https://localhost:8080/"
        },
        "outputId": "ed9a48d7-1a11-48a1-9931-b9ebe152552f",
        "id": "OZRfhg5UZ64N"
      },
      "execution_count": 37,
      "outputs": [
        {
          "output_type": "stream",
          "name": "stdout",
          "text": [
            "enter the marks of a student19\n",
            "student is failed\n"
          ]
        }
      ]
    },
    {
      "cell_type": "markdown",
      "source": [
        "Replacing single collon by double collon"
      ],
      "metadata": {
        "id": "eEFD13roa4Dr"
      }
    },
    {
      "cell_type": "code",
      "source": [
        "marks = int(input(\"enter the marks of a student\"))\n",
        "if marks >= 35:\n",
        "   print(\"student is pass\")\n",
        "else:\n",
        "  print(\"student is failed\")"
      ],
      "metadata": {
        "colab": {
          "base_uri": "https://localhost:8080/"
        },
        "outputId": "28cc9189-015e-4a58-8552-1d9a855c89eb",
        "id": "fY9wcp2Ka18F"
      },
      "execution_count": 38,
      "outputs": [
        {
          "output_type": "stream",
          "name": "stdout",
          "text": [
            "enter the marks of a student36\n",
            "student is pass\n"
          ]
        }
      ]
    }
  ]
}