{
  "nbformat": 4,
  "nbformat_minor": 0,
  "metadata": {
    "colab": {
      "provenance": [],
      "authorship_tag": "ABX9TyPzc3kJ3V0wdN31WD3ErCBk",
      "include_colab_link": true
    },
    "kernelspec": {
      "name": "python3",
      "display_name": "Python 3"
    },
    "language_info": {
      "name": "python"
    }
  },
  "cells": [
    {
      "cell_type": "markdown",
      "metadata": {
        "id": "view-in-github",
        "colab_type": "text"
      },
      "source": [
        "<a href=\"https://colab.research.google.com/github/Chethan2627/Chethan2627/blob/main/Program_2_Finding_angle_between_two_polar_curves_and_radius_of_curvature_in_cartisean_%2C_paramateric_and_polar_form_.ipynb\" target=\"_parent\"><img src=\"https://colab.research.google.com/assets/colab-badge.svg\" alt=\"Open In Colab\"/></a>"
      ]
    },
    {
      "cell_type": "markdown",
      "source": [
        "2a) Finding angle between two polar curves"
      ],
      "metadata": {
        "id": "N2Z_VbXw4Ntz"
      }
    },
    {
      "cell_type": "markdown",
      "source": [],
      "metadata": {
        "id": "o-nzvtDRpr3M"
      }
    },
    {
      "cell_type": "markdown",
      "source": [
        "1) r=(theta) 7 r=a/theta"
      ],
      "metadata": {
        "id": "9-H3FwlU4VKa"
      }
    },
    {
      "cell_type": "code",
      "source": [
        "from sympy import *\n",
        "r, theta,a=symbols('r, theta, a')\n",
        "r1=a*theta;                                             #r1=atheta\n",
        "r2=a/(theta);                                           #r2=a/theta\n",
        "dr1=diff(r1, theta)                                     #dr1/dtheta\n",
        "dr2=diff(r2, theta)                                     #dr2/dtheta\n",
        "t1=dr1/r1                                               #(1/r1)(dr1theta/dtheta)=cotphi1\n",
        "t2=dr2/r2                                               #(1/r2)(dr2theta/dtheta)=cotphi2\n",
        "q=solve(r1-r2, theta)                                   #r1=r2, solve for theta\n",
        "print('q=',(q))                                         #show theta value\n",
        "w1=t1.subs({theta:(q[0])})                              #subst theta in cotphi1\n",
        "print('w1=',(w1))                                       #show cot phi1\n",
        "w2=t2.subs({theta:(q[0])})                              #subst theta in cotphi2\n",
        "print('w2=',(w2))                                       #show cot phi2\n",
        "y1=acot(w1)                                             # phi1=(cot)^(-1)()\n",
        "print('y1=',(y1))                                       #show phi1\n",
        "y2=acot(w2)                                             # phi2=(cot)^(-1)()\n",
        "print('y2=',(y2))                                       #show phi2\n",
        "w=abs(y1-y2)                                            #|phi1-phi2|\n",
        "print('w=',(w))                                         # show |phi1-phi2|\n",
        "print(\"angle b/n two polar curve is \", w)\n"
      ],
      "metadata": {
        "colab": {
          "base_uri": "https://localhost:8080/"
        },
        "id": "7vtIYHwj43pq",
        "outputId": "7ef815d3-ff6d-4736-deb5-e68f321a8f71"
      },
      "execution_count": null,
      "outputs": [
        {
          "output_type": "stream",
          "name": "stdout",
          "text": [
            "q= [-1, 1]\n",
            "w1= -1\n",
            "w2= 1\n",
            "y1= -pi/4\n",
            "y2= pi/4\n",
            "w= pi/2\n",
            "angle b/n two polar curve is  pi/2\n"
          ]
        }
      ]
    },
    {
      "cell_type": "markdown",
      "source": [
        "2) r=a(1+sin(theta)) & r=a(1-sintheta)"
      ],
      "metadata": {
        "id": "KyHb8aUEpu0T"
      }
    },
    {
      "cell_type": "code",
      "source": [
        "from sympy import *\n",
        "r, theta,a=symbols('r, theta, a')\n",
        "r1=a*(1+sin(theta));                                             #r1=atheta\n",
        "r2=a*(1-sin(theta));                                           #r2=a/theta\n",
        "dr1=diff(r1, theta)                                     #dr1/dtheta\n",
        "dr2=diff(r2, theta)                                     #dr2/dtheta\n",
        "t1=dr1/r1                                               #(1/r1)(dr1theta/dtheta)=cotphi1\n",
        "t2=dr2/r2                                               #(1/r2)(dr2theta/dtheta)=cotphi2\n",
        "q=solve(r1-r2, theta)                                   #r1=r2, solve for theta\n",
        "print('q=',(q))                                         #show theta value\n",
        "w1=t1.subs({theta:(q[0])})                              #subst theta in cotphi1\n",
        "print('w1=',(w1))                                       #show cot phi1\n",
        "w2=t2.subs({theta:(q[0])})                              #subst theta in cotphi2\n",
        "print('w2=',(w2))                                       #show cot phi2\n",
        "y1=acot(w1)                                             # phi1=(cot)^(-1)()\n",
        "print('y1=',(y1))                                       #show phi1\n",
        "y2=acot(w2)                                             # phi2=(cot)^(-1)()\n",
        "print('y2=',(y2))                                       #show phi2\n",
        "w=abs(y1-y2)                                            #|phi1-phi2|\n",
        "print('w=',(w))                                         # show |phi1-phi2|\n",
        "print(\"angle b/n two polar curve is \", w)\n"
      ],
      "metadata": {
        "colab": {
          "base_uri": "https://localhost:8080/"
        },
        "outputId": "ee284899-55d8-483a-8813-f6c9f6a93e2a",
        "id": "HLAc09mYqBKR"
      },
      "execution_count": null,
      "outputs": [
        {
          "output_type": "stream",
          "name": "stdout",
          "text": [
            "q= [0, pi]\n",
            "w1= 1\n",
            "w2= -1\n",
            "y1= pi/4\n",
            "y2= -pi/4\n",
            "w= pi/2\n",
            "angle b/n two polar curve is  pi/2\n"
          ]
        }
      ]
    },
    {
      "cell_type": "markdown",
      "source": [
        "3)r=6 costeta & r=2(1+costheta)"
      ],
      "metadata": {
        "id": "Vszei12hrCAl"
      }
    },
    {
      "cell_type": "code",
      "source": [
        "from sympy import *\n",
        "r, theta,a=symbols('r, theta, a')\n",
        "r1=6*cos(theta);                                             #r1=atheta\n",
        "r2=2*(1+cos(theta));                                           #r2=a/theta\n",
        "dr1=diff(r1, theta)                                     #dr1/dtheta\n",
        "dr2=diff(r2, theta)                                     #dr2/dtheta\n",
        "t1=dr1/r1                                               #(1/r1)(dr1theta/dtheta)=cotphi1\n",
        "t2=dr2/r2                                               #(1/r2)(dr2theta/dtheta)=cotphi2\n",
        "q=solve(r1-r2, theta)                                   #r1=r2, solve for theta\n",
        "print('q=',(q))                                         #show theta value\n",
        "w1=t1.subs({theta:(q[0])})                              #subst theta in cotphi1\n",
        "print('w1=',(w1))                                       #show cot phi1\n",
        "w2=t2.subs({theta:(q[0])})                              #subst theta in cotphi2\n",
        "print('w2=',(w2))                                       #show cot phi2\n",
        "y1=acot(w1)                                             # phi1=(cot)^(-1)()\n",
        "print('y1=',(y1))                                       #show phi1\n",
        "y2=acot(w2)                                             # phi2=(cot)^(-1)()\n",
        "print('y2=',(y2))                                       #show phi2\n",
        "w=abs(y1-y2)                                            #|phi1-phi2|\n",
        "print('w=',(w))                                         # show |phi1-phi2|\n",
        "print(\"angle b/n two polar curve is \", w)\n"
      ],
      "metadata": {
        "colab": {
          "base_uri": "https://localhost:8080/"
        },
        "outputId": "f2a320c6-4f5d-4700-8434-4982fc94dc61",
        "id": "4YnQEyLarZCU"
      },
      "execution_count": null,
      "outputs": [
        {
          "output_type": "stream",
          "name": "stdout",
          "text": [
            "q= [pi/3, 5*pi/3]\n",
            "w1= -sqrt(3)\n",
            "w2= -sqrt(3)/3\n",
            "y1= -pi/6\n",
            "y2= -pi/3\n",
            "w= pi/6\n",
            "angle b/n two polar curve is  pi/6\n"
          ]
        }
      ]
    },
    {
      "cell_type": "markdown",
      "source": [
        "4)r=sintheta + costheta & r=2sintheta"
      ],
      "metadata": {
        "id": "unjhkLtOrzO-"
      }
    },
    {
      "cell_type": "code",
      "source": [
        "from sympy import *\n",
        "r, theta,a=symbols('r, theta, a')\n",
        "r1=sin(theta)+cos(theta);                                             #r1=atheta\n",
        "r2=2*sin(theta);                                           #r2=a/theta\n",
        "dr1=diff(r1, theta)                                     #dr1/dtheta\n",
        "dr2=diff(r2, theta)                                     #dr2/dtheta\n",
        "t1=dr1/r1                                               #(1/r1)(dr1theta/dtheta)=cotphi1\n",
        "t2=dr2/r2                                               #(1/r2)(dr2theta/dtheta)=cotphi2\n",
        "q=solve(r1-r2, theta)                                   #r1=r2, solve for theta\n",
        "print('q=',(q))                                         #show theta value\n",
        "w1=t1.subs({theta:(q[0])})                              #subst theta in cotphi1\n",
        "print('w1=',(w1))                                       #show cot phi1\n",
        "w2=t2.subs({theta:(q[0])})                              #subst theta in cotphi2\n",
        "print('w2=',(w2))                                       #show cot phi2\n",
        "y1=acot(w1)                                             # phi1=(cot)^(-1)()\n",
        "print('y1=',(y1))                                       #show phi1\n",
        "y2=acot(w2)                                             # phi2=(cot)^(-1)()\n",
        "print('y2=',(y2))                                       #show phi2\n",
        "w=abs(y1-y2)                                            #|phi1-phi2|\n",
        "print('w=',(w))                                         # show |phi1-phi2|\n",
        "print(\"angle b/n two polar curve is \", w)\n"
      ],
      "metadata": {
        "colab": {
          "base_uri": "https://localhost:8080/"
        },
        "outputId": "d00e9ebb-5106-4bd5-d0fe-3333a7c806e8",
        "id": "j_xdzoMEsZkU"
      },
      "execution_count": null,
      "outputs": [
        {
          "output_type": "stream",
          "name": "stdout",
          "text": [
            "q= [pi/4]\n",
            "w1= 0\n",
            "w2= 1\n",
            "y1= pi/2\n",
            "y2= pi/4\n",
            "w= pi/4\n",
            "angle b/n two polar curve is  pi/4\n"
          ]
        }
      ]
    },
    {
      "cell_type": "markdown",
      "source": [
        "2b) FINDING RADIUS OF CURVATURE IN CARTESIAN, PARAMETRIC AND POLAR FORMS\n",
        "\n",
        "I Cartesian form: 1)find radius of curvature sqrt(x)+sqrt(y)=4 at (4,4)"
      ],
      "metadata": {
        "id": "bVWqF9KV86f0"
      }
    },
    {
      "cell_type": "code",
      "source": [
        "from sympy import *\n",
        "x,y = symbols('x y')\n",
        "y=(4-sqrt(x))**2;\n",
        "y1=diff(y,x)\n",
        "y2=diff(y1,x)\n",
        "rho=simplify(1+y1**2)**1.5/y2;\n",
        "rho1=rho.subs(x,4);\n",
        "rho2=rho1.subs(y,4);\n",
        "print('y1 = ',(y1))\n",
        "print('y2 = ',(y2))\n",
        "print('rho= ',(rho))\n",
        "print('Radius of curvature at x=4 and y=4 is %0.3f'%(rho2))\n"
      ],
      "metadata": {
        "colab": {
          "base_uri": "https://localhost:8080/"
        },
        "id": "tkFIJAAV85nd",
        "outputId": "36c9e057-59c2-41db-8408-dc8c17f72f4d"
      },
      "execution_count": 3,
      "outputs": [
        {
          "output_type": "stream",
          "name": "stdout",
          "text": [
            "y1 =  -(4 - sqrt(x))/sqrt(x)\n",
            "y2 =  1/(2*x) + (4 - sqrt(x))/(2*x**(3/2))\n",
            "rho=  ((x + (sqrt(x) - 4)**2)/x)**1.5/(1/(2*x) + (4 - sqrt(x))/(2*x**(3/2)))\n",
            "Radius of curvature at x=4 and y=4 is 11.314\n"
          ]
        }
      ]
    },
    {
      "cell_type": "markdown",
      "source": [
        "2) Find radius of curvature of y = 4sinx-sin2x at x=pi/2"
      ],
      "metadata": {
        "id": "AKke65_qE3cf"
      }
    },
    {
      "cell_type": "code",
      "source": [
        "from sympy import *\n",
        "x,y = symbols('x y')\n",
        "y=4*sin(x)-sin(2*x)\n",
        "dy1=diff(y,x)\n",
        "dy2=diff(dy1,x)\n",
        "rho=simplify(1+dy1**2)**1.5/dy2;\n",
        "rho1=rho.subs(x,(pi/2));\n",
        "print('dy1 = ',(dy1))\n",
        "print('dy2 = ',(dy2))\n",
        "print('rho= ',(rho))\n",
        "print('Radius of curvature at x=4 and y=4 is %0.3f'%(rho1))\n"
      ],
      "metadata": {
        "colab": {
          "base_uri": "https://localhost:8080/"
        },
        "outputId": "1f068e54-0774-4796-e31f-610490d96b43",
        "id": "lkMo2ekDEJsO"
      },
      "execution_count": 4,
      "outputs": [
        {
          "output_type": "stream",
          "name": "stdout",
          "text": [
            "dy1 =  4*cos(x) - 2*cos(2*x)\n",
            "dy2 =  -4*sin(x) + 4*sin(2*x)\n",
            "rho=  (4*(2*cos(x) - cos(2*x))**2 + 1)**1.5/(-4*sin(x) + 4*sin(2*x))\n",
            "Radius of curvature at x=4 and y=4 is -2.795\n"
          ]
        }
      ]
    },
    {
      "cell_type": "markdown",
      "source": [
        "3) Find the radius of curvature of y^2=[4a^2(2a-x)]/x at (2a,0)\n"
      ],
      "metadata": {
        "id": "k64uvi_zG5th"
      }
    },
    {
      "cell_type": "code",
      "source": [
        "from sympy import *\n",
        "x,y,a = symbols('x y a')\n",
        "x =8*a**3/(y**2+4*a**2);\n",
        "dx1=diff(x,y)\n",
        "dx2=diff(dx1,y)\n",
        "rho=simplify(1+dx1**2)**1.5/dx2;\n",
        "rho1=rho.subs(x,2*a);\n",
        "rho2=rho1.subs(y,0);\n",
        "rho3=rho2.subs(a,2)\n",
        "print('dx1 = ',(dx1))\n",
        "print('dx2 = ',(dx2))\n",
        "print('rho= ',(rho))\n",
        "print('Radius of curvature at x=4 and y=4 is ', simplify(rho3))\n"
      ],
      "metadata": {
        "colab": {
          "base_uri": "https://localhost:8080/"
        },
        "outputId": "9532c4b3-6159-47cb-943d-5f77f85f1a04",
        "id": "zaUXu8jNHj_F"
      },
      "execution_count": 8,
      "outputs": [
        {
          "output_type": "stream",
          "name": "stdout",
          "text": [
            "dx1 =  -16*a**3*y/(4*a**2 + y**2)**2\n",
            "dx2 =  64*a**3*y**2/(4*a**2 + y**2)**3 - 16*a**3/(4*a**2 + y**2)**2\n",
            "rho=  (256*a**6*y**2/(4*a**2 + y**2)**4 + 1)**1.5/(64*a**3*y**2/(4*a**2 + y**2)**3 - 16*a**3/(4*a**2 + y**2)**2)\n",
            "Radius of curvature at x=4 and y=4 is  -2\n"
          ]
        }
      ]
    }
  ]
}