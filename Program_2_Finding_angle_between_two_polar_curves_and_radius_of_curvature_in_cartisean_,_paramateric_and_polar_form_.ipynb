{
  "nbformat": 4,
  "nbformat_minor": 0,
  "metadata": {
    "colab": {
      "provenance": [],
      "authorship_tag": "ABX9TyNYn6KsDUDrL8+PtmNJDM2c",
      "include_colab_link": true
    },
    "kernelspec": {
      "name": "python3",
      "display_name": "Python 3"
    },
    "language_info": {
      "name": "python"
    }
  },
  "cells": [
    {
      "cell_type": "markdown",
      "metadata": {
        "id": "view-in-github",
        "colab_type": "text"
      },
      "source": [
        "<a href=\"https://colab.research.google.com/github/Chethan2627/Chethan2627/blob/main/Program_2_Finding_angle_between_two_polar_curves_and_radius_of_curvature_in_cartisean_%2C_paramateric_and_polar_form_.ipynb\" target=\"_parent\"><img src=\"https://colab.research.google.com/assets/colab-badge.svg\" alt=\"Open In Colab\"/></a>"
      ]
    },
    {
      "cell_type": "markdown",
      "source": [
        "2a) Finding angle between two polar curves"
      ],
      "metadata": {
        "id": "N2Z_VbXw4Ntz"
      }
    },
    {
      "cell_type": "markdown",
      "source": [
        "1) r=(theta) 7 r=a/theta"
      ],
      "metadata": {
        "id": "9-H3FwlU4VKa"
      }
    },
    {
      "cell_type": "code",
      "source": [
        "from sympy import *\n",
        "r, theta,a=symbols('r, theta, a')\n",
        "r1=a*theta;                                             #r1=atheta\n",
        "r2=a/(theta);                                           #r2=a/theta\n",
        "dr1=diff(r1, theta)                                     #dr1/dtheta\n",
        "dr2=diff(r2, theta)                                     #dr2/dtheta\n",
        "t1=dr1/r1                                               #(1/r1)(dr1theta/dtheta)=cotphi1\n",
        "t2=dr2/r2                                               #(1/r2)(dr2theta/dtheta)=cotphi2\n",
        "q=solve(r1-r2, theta)                                   #r1=r2, solve for theta\n",
        "print('q=',(q))                                         #show theta value\n",
        "w1=t1.subs({theta:(q[0])})                              #subst theta in cotphi1\n",
        "print('w1=',(w1))                                       #show cot phi1\n",
        "w2=t2.subs({theta:(q[0])})                              #subst theta in cotphi2\n",
        "print('w2=',(w2))                                       #show cot phi2\n",
        "y1=acot(w1)                                             # phi1=(cot)^(-1)()\n",
        "print('y1=',(y1))                                       #show phi1\n",
        "y2=acot(w2)                                             # phi2=(cot)^(-1)()\n",
        "print('y2=',(y2))                                       #show phi2\n",
        "w=abs(y1-y2)                                            #|phi1-phi2|\n",
        "print('w=',(w))                                         # show |phi1-phi2|\n",
        "print(\"angle b/n two polar curve is \", w)\n"
      ],
      "metadata": {
        "colab": {
          "base_uri": "https://localhost:8080/"
        },
        "id": "7vtIYHwj43pq",
        "outputId": "7ef815d3-ff6d-4736-deb5-e68f321a8f71"
      },
      "execution_count": 5,
      "outputs": [
        {
          "output_type": "stream",
          "name": "stdout",
          "text": [
            "q= [-1, 1]\n",
            "w1= -1\n",
            "w2= 1\n",
            "y1= -pi/4\n",
            "y2= pi/4\n",
            "w= pi/2\n",
            "angle b/n two polar curve is  pi/2\n"
          ]
        }
      ]
    }
  ]
}