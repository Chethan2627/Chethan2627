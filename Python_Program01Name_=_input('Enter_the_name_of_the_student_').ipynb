{
  "nbformat": 4,
  "nbformat_minor": 0,
  "metadata": {
    "colab": {
      "provenance": [],
      "authorship_tag": "ABX9TyMDzfereOuZOZlt0Nyg1b9a",
      "include_colab_link": true
    },
    "kernelspec": {
      "name": "python3",
      "display_name": "Python 3"
    },
    "language_info": {
      "name": "python"
    }
  },
  "cells": [
    {
      "cell_type": "markdown",
      "metadata": {
        "id": "view-in-github",
        "colab_type": "text"
      },
      "source": [
        "<a href=\"https://colab.research.google.com/github/Chethan2627/Chethan2627/blob/main/Python_Program01Name_%3D_input('Enter_the_name_of_the_student_').ipynb\" target=\"_parent\"><img src=\"https://colab.research.google.com/assets/colab-badge.svg\" alt=\"Open In Colab\"/></a>"
      ]
    },
    {
      "cell_type": "code",
      "execution_count": 4,
      "metadata": {
        "colab": {
          "base_uri": "https://localhost:8080/"
        },
        "id": "7uafuChjcFbc",
        "outputId": "8fde78fb-3e39-4f5a-a59a-d89c6601cb78"
      },
      "outputs": [
        {
          "output_type": "stream",
          "name": "stdout",
          "text": [
            "Enter the name of the student:Chethan.M.S\n",
            "Enter the USN of the student:24\n",
            "Enter the marks in the subject1 :93\n",
            "Enter the marks in the subject2 :93\n",
            "Enter the marks in the subject3 :95\n",
            " Students details :==========\n",
            "Name : Chethan.M.S\n",
            "USN :  24\n",
            "Marks1 : 93\n",
            "Marks2 : 93\n",
            "Marks3 :  95\n",
            "Total :  281\n",
            "percent 93.66666666666667\n"
          ]
        }
      ],
      "source": [
        "Name = input(\"Enter the name of the student:\")\n",
        "USN = input(\"Enter the USN of the student:\")\n",
        "Marks1 = int(input(\"Enter the marks in the subject1 :\"))\n",
        "Marks2 = int(input(\"Enter the marks in the subject2 :\"))\n",
        "Marks3 = int(input(\"Enter the marks in the subject3 :\"))\n",
        "print(\" Students details :==========\")\n",
        "print(\"Name :\" ,Name )\n",
        "print(\"USN : \",USN)\n",
        "print(\"Marks1 :\" ,Marks1)\n",
        "print(\"Marks2 :\" ,Marks2)\n",
        "print(\"Marks3 : \",Marks3)\n",
        "print(\"Total : \",Marks1+Marks2+Marks3)\n",
        "print(\"percent\" ,((Marks1+Marks2+Marks3)/3))"
      ]
    }
  ]
}