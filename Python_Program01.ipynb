{
  "nbformat": 4,
  "nbformat_minor": 0,
  "metadata": {
    "colab": {
      "provenance": [],
      "authorship_tag": "ABX9TyOovPTBJGPSTQuYFSVTsZrw",
      "include_colab_link": true
    },
    "kernelspec": {
      "name": "python3",
      "display_name": "Python 3"
    },
    "language_info": {
      "name": "python"
    }
  },
  "cells": [
    {
      "cell_type": "markdown",
      "metadata": {
        "id": "view-in-github",
        "colab_type": "text"
      },
      "source": [
        "<a href=\"https://colab.research.google.com/github/Chethan2627/Chethan2627/blob/main/Python_Program01.ipynb\" target=\"_parent\"><img src=\"https://colab.research.google.com/assets/colab-badge.svg\" alt=\"Open In Colab\"/></a>"
      ]
    },
    {
      "cell_type": "markdown",
      "source": [
        "1. a) Develop a program to read the student details like Name, USN, and Marks in three subjects.Display the student details, total marks and percentage with suitable messages."
      ],
      "metadata": {
        "id": "YhUOmWSoluim"
      }
    },
    {
      "cell_type": "code",
      "execution_count": null,
      "metadata": {
        "colab": {
          "base_uri": "https://localhost:8080/"
        },
        "outputId": "a1cc78c6-ccf9-4288-af56-8d747db30fc0",
        "id": "3qfbPLxymd_1"
      },
      "outputs": [
        {
          "output_type": "stream",
          "name": "stdout",
          "text": [
            "Enter the name of the student :Chethan.M.S\n",
            "Enter the USN of the student :24\n",
            "Enter the marks in the subject1 :93\n",
            "Enter the marks in the subject2 :95\n",
            "Enter the marks in the subject3 :95\n",
            " Students details :==========\n",
            "Name : Chethan.M.S\n",
            "USN :  24\n",
            "Marks1 : 93\n",
            "Marks2 : 95\n",
            "Marks3 :  95\n",
            "Total :  283\n",
            "percent 94.33333333333333\n"
          ]
        }
      ],
      "source": [
        "#Program to read name , USN and Marks of 3 subjects\n",
        "Name = input(\"Enter the name of the student :\")\n",
        "USN = input(\"Enter the USN of the student :\")\n",
        "Marks1 = int(input(\"Enter the marks in the subject1 :\"))\n",
        "Marks2 = int(input(\"Enter the marks in the subject2 :\"))\n",
        "Marks3 = int(input(\"Enter the marks in the subject3 :\"))\n",
        "print(\" Students details :==========\")\n",
        "print(\"Name :\" ,Name )\n",
        "print(\"USN : \",USN)\n",
        "print(\"Marks1 :\" ,Marks1)\n",
        "print(\"Marks2 :\" ,Marks2)\n",
        "print(\"Marks3 : \",Marks3)\n",
        "print(\"Total : \",Marks1+Marks2+Marks3)\n",
        "print(\"percent\" ,((Marks1+Marks2+Marks3)/3))"
      ]
    },
    {
      "cell_type": "markdown",
      "source": [
        "B) Develop a program to read the name and year of birth of a person. Display whether the person is a senior citizen or not.\n",
        "                                          "
      ],
      "metadata": {
        "id": "hXEnNJhlTa8F"
      }
    },
    {
      "cell_type": "code",
      "source": [
        "                                  Age.py"
      ],
      "metadata": {
        "id": "dSUomIIcTZKO"
      },
      "execution_count": null,
      "outputs": []
    },
    {
      "cell_type": "code",
      "source": [
        "from datetime import date\n",
        "Name = input(\" Enter thr name of the person: \")\n",
        "DOB = int(input(\"Enter his year of birth : \"))\n",
        "\n",
        "currentyear = date.today().year\n",
        "Age = currentyear - DOB\n",
        "\n",
        "if (Age > 60):\n",
        "  print(Name, \"is a seniorcitizen.\")\n",
        "else:\n",
        "  print(Name, \"is not a senior citizen.\")\n"
      ],
      "metadata": {
        "colab": {
          "base_uri": "https://localhost:8080/"
        },
        "id": "fihhkn-bUDOM",
        "outputId": "ed4c8175-db9d-45db-ae7c-5f90e1efefe5"
      },
      "execution_count": 9,
      "outputs": [
        {
          "output_type": "stream",
          "name": "stdout",
          "text": [
            " Enter thr name of the person: Chethan.M.S\n",
            "Enter his year of birth : 2006\n",
            "Chethan.M.S is not a senior citizen.\n"
          ]
        }
      ]
    },
    {
      "cell_type": "code",
      "source": [],
      "metadata": {
        "id": "1sxnz-eRYIcd"
      },
      "execution_count": null,
      "outputs": []
    },
    {
      "cell_type": "code",
      "source": [
        "from datetime import date\n",
        "Name = input(\" Enter thr name of the person: \")\n",
        "DOB = int(input(\"Enter his year of birth : \"))\n",
        "\n",
        "currentyear = date.today().year\n",
        "Age = currentyear - DOB\n",
        "\n",
        "if (Age > 60):\n",
        "  print(Name, \"is a seniorcitizen.\")\n",
        "else:\n",
        "  print(Name, \"is not a senior citizen.\")\n"
      ],
      "metadata": {
        "colab": {
          "base_uri": "https://localhost:8080/"
        },
        "outputId": "1939aaae-51b9-4f5d-ce61-766a155a9853",
        "id": "t99NZtVSYKjA"
      },
      "execution_count": 11,
      "outputs": [
        {
          "output_type": "stream",
          "name": "stdout",
          "text": [
            " Enter thr name of the person: Raj\n",
            "Enter his year of birth : 1947\n",
            "Raj is a seniorcitizen.\n"
          ]
        }
      ]
    }
  ]
}