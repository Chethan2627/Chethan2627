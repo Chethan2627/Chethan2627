{
  "nbformat": 4,
  "nbformat_minor": 0,
  "metadata": {
    "colab": {
      "provenance": [],
      "authorship_tag": "ABX9TyPrCW9csXVVE+VBssZKwk1I",
      "include_colab_link": true
    },
    "kernelspec": {
      "name": "python3",
      "display_name": "Python 3"
    },
    "language_info": {
      "name": "python"
    }
  },
  "cells": [
    {
      "cell_type": "markdown",
      "metadata": {
        "id": "view-in-github",
        "colab_type": "text"
      },
      "source": [
        "<a href=\"https://colab.research.google.com/github/Chethan2627/Chethan2627/blob/main/PYTHON_PROGRAM_6_ONWARDS_.ipynb\" target=\"_parent\"><img src=\"https://colab.research.google.com/assets/colab-badge.svg\" alt=\"Open In Colab\"/></a>"
      ]
    },
    {
      "cell_type": "code",
      "execution_count": null,
      "metadata": {
        "colab": {
          "base_uri": "https://localhost:8080/",
          "height": 140
        },
        "id": "DGvmkncA7QVt",
        "outputId": "4ca0b542-093d-4ca7-99e5-cbd30eda9c1a"
      },
      "outputs": [
        {
          "output_type": "execute_result",
          "data": {
            "text/plain": [
              "'The Pune-Bengaluru Expressway is expected to be completed by 2028. The project is an 8-lane access-controlled highway that will improve road connectivity between the two cities. The estimated cost of the project is around Rs 40,000 crores. \\nHere are some other details about the Pune-Bengaluru Expressway:\\nThe expressway will start from Bommanal on the Maharashtra border in Athani Taluk.\\nIt will pass through several industrial clusters in Karnataka.\\nThe expressway will have 22 interchanges with other road networks.\\nTwo emergency airstrips will be built near Pune and Bengaluru.\\nThere will be 55 flyovers.\\nA 15-meter median will be provided for future widening.\\nTree plantation will be done on both sides of the expressway. \\n'"
            ],
            "application/vnd.google.colaboratory.intrinsic+json": {
              "type": "string"
            }
          },
          "metadata": {},
          "execution_count": 3
        }
      ],
      "source": [
        "file = open('/content/Chethan.M.S.txt')\n",
        "file.read()"
      ]
    },
    {
      "cell_type": "code",
      "source": [],
      "metadata": {
        "id": "EmEukIMm9aB0"
      },
      "execution_count": null,
      "outputs": []
    },
    {
      "cell_type": "code",
      "source": [
        "file = open('/content/Chethan.M.S.txt','w')  #w for writes\n",
        "content = file.write('king123')\n",
        "file.close()\n",
        "\n",
        "\n",
        "print(content)"
      ],
      "metadata": {
        "colab": {
          "base_uri": "https://localhost:8080/"
        },
        "outputId": "f7dd6dec-fa27-4e8c-c994-852eda3cbe96",
        "id": "M8ad-50p9ax9"
      },
      "execution_count": null,
      "outputs": [
        {
          "output_type": "stream",
          "name": "stdout",
          "text": [
            "7\n"
          ]
        }
      ]
    },
    {
      "cell_type": "code",
      "source": [
        "file = open('/content/Chethan.M.S.txt','a')   # a fo\n",
        "content = file.write('chethan123')\n",
        "file.close()\n",
        "\n",
        "\n",
        "print(content)"
      ],
      "metadata": {
        "colab": {
          "base_uri": "https://localhost:8080/"
        },
        "id": "Of6Ako2e8eHp",
        "outputId": "f7f6d585-5415-43b0-a650-5a0e1136386a"
      },
      "execution_count": null,
      "outputs": [
        {
          "output_type": "stream",
          "name": "stdout",
          "text": [
            "10\n"
          ]
        }
      ]
    },
    {
      "cell_type": "markdown",
      "source": [
        "7.Develop a program to backing up a given folder (Folder in a current working directionary ) into a ZIP file by using relevent modules and suitable methods."
      ],
      "metadata": {
        "id": "G-lI3BwXpzAj"
      }
    },
    {
      "cell_type": "code",
      "source": [
        "import os\n",
        "import zipfile\n",
        "\n",
        "zf = zipfile.ZipFile(\"myzipfile.zip\", \"w\")\n",
        "for foldername, subfolders, files in os.walk(\"mydirectory\"):\n",
        "  for filename in files:\n",
        "    zf.write(os.path.join(foldername,filename))\n",
        "\n",
        "print(\"Zip file is created\")"
      ],
      "metadata": {
        "colab": {
          "base_uri": "https://localhost:8080/"
        },
        "id": "AfuedmA-qUDw",
        "outputId": "e0872f77-db5c-4729-8ba0-fdf30f423b68"
      },
      "execution_count": null,
      "outputs": [
        {
          "output_type": "stream",
          "name": "stdout",
          "text": [
            "Zip file is created\n"
          ]
        }
      ]
    },
    {
      "cell_type": "markdown",
      "source": [
        "saving variable with shelve module"
      ],
      "metadata": {
        "id": "0UfqtrbjvSPn"
      }
    },
    {
      "cell_type": "code",
      "source": [
        "import shelve\n",
        "shelfFile = shelve.open('mydata')\n",
        "cats = ['Zophie','Pooka','Simon']\n",
        "places = ['Tumkur','Gubbi']\n",
        "shelfFile['cats'] = cats\n",
        "shelfFile['places'] = places\n",
        "shelfFile.close()\n"
      ],
      "metadata": {
        "id": "HZZivX-nvY4O"
      },
      "execution_count": 44,
      "outputs": []
    },
    {
      "cell_type": "code",
      "source": [
        "shelfFile = shelve.open('mydata')\n",
        "print(shelfFile['cats'])\n",
        "shelfFile['places']"
      ],
      "metadata": {
        "colab": {
          "base_uri": "https://localhost:8080/"
        },
        "id": "j9cDm5__ybSs",
        "outputId": "75b9e0c1-beb7-41fe-ac7b-e7a5d2d7011f"
      },
      "execution_count": 47,
      "outputs": [
        {
          "output_type": "stream",
          "name": "stdout",
          "text": [
            "['Zophie', 'Pooka', 'Simon']\n"
          ]
        },
        {
          "output_type": "execute_result",
          "data": {
            "text/plain": [
              "['Tumkur', 'Gubbi']"
            ]
          },
          "metadata": {},
          "execution_count": 47
        }
      ]
    },
    {
      "cell_type": "code",
      "source": [
        "shelfFile = shelve.open('mydata')\n",
        "shelfFile['cats']\n",
        "shelfFile['places']"
      ],
      "metadata": {
        "colab": {
          "base_uri": "https://localhost:8080/"
        },
        "outputId": "2f43b58b-ed89-4028-e306-6358148ccb9b",
        "id": "rphKtyp21PsJ"
      },
      "execution_count": 48,
      "outputs": [
        {
          "output_type": "execute_result",
          "data": {
            "text/plain": [
              "['Tumkur', 'Gubbi']"
            ]
          },
          "metadata": {},
          "execution_count": 48
        }
      ]
    },
    {
      "cell_type": "code",
      "source": [
        "shelfFile = shelve.open('mydata')\n",
        "shelfFile['cats']\n"
      ],
      "metadata": {
        "colab": {
          "base_uri": "https://localhost:8080/"
        },
        "outputId": "2c32c2f7-5550-4255-eac5-b1ddbdd29b26",
        "id": "0-opWnVd1Vrf"
      },
      "execution_count": 49,
      "outputs": [
        {
          "output_type": "execute_result",
          "data": {
            "text/plain": [
              "['Zophie', 'Pooka', 'Simon']"
            ]
          },
          "metadata": {},
          "execution_count": 49
        }
      ]
    },
    {
      "cell_type": "code",
      "source": [
        "shelfFile = shelve.open('mydata')\n",
        "list(shelfFile.keys())    #list(shelfFile.values())"
      ],
      "metadata": {
        "colab": {
          "base_uri": "https://localhost:8080/"
        },
        "id": "2f7Q4q9h1aEG",
        "outputId": "0fa990e5-9517-491c-ad94-286a2aa4f773"
      },
      "execution_count": 51,
      "outputs": [
        {
          "output_type": "execute_result",
          "data": {
            "text/plain": [
              "['places', 'cats']"
            ]
          },
          "metadata": {},
          "execution_count": 51
        }
      ]
    }
  ]
}