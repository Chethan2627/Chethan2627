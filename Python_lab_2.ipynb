{
  "nbformat": 4,
  "nbformat_minor": 0,
  "metadata": {
    "colab": {
      "provenance": [],
      "authorship_tag": "ABX9TyPvfWGsMNa2TOclMo0kSmdg",
      "include_colab_link": true
    },
    "kernelspec": {
      "name": "python3",
      "display_name": "Python 3"
    },
    "language_info": {
      "name": "python"
    }
  },
  "cells": [
    {
      "cell_type": "markdown",
      "metadata": {
        "id": "view-in-github",
        "colab_type": "text"
      },
      "source": [
        "<a href=\"https://colab.research.google.com/github/Chethan2627/Chethan2627/blob/main/Python_lab_2.ipynb\" target=\"_parent\"><img src=\"https://colab.research.google.com/assets/colab-badge.svg\" alt=\"Open In Colab\"/></a>"
      ]
    },
    {
      "cell_type": "code",
      "execution_count": 4,
      "metadata": {
        "colab": {
          "base_uri": "https://localhost:8080/"
        },
        "id": "4KqcBEGdL_ef",
        "outputId": "2bc9a880-95cc-4cb6-dcbc-85ad8c608d3d"
      },
      "outputs": [
        {
          "output_type": "stream",
          "name": "stdout",
          "text": [
            "25\n"
          ]
        }
      ],
      "source": [
        "_chethan_ms_= 25\n",
        "print(_chethan_ms_)"
      ]
    },
    {
      "cell_type": "code",
      "source": [
        "Abcg=20\n",
        "print(Abcg)"
      ],
      "metadata": {
        "colab": {
          "base_uri": "https://localhost:8080/"
        },
        "id": "RKTzwNPJNQS8",
        "outputId": "236ae0fb-5a8f-44a5-9f4f-80d4a9dfa091"
      },
      "execution_count": 5,
      "outputs": [
        {
          "output_type": "stream",
          "name": "stdout",
          "text": [
            "20\n"
          ]
        }
      ]
    },
    {
      "cell_type": "code",
      "source": [
        "A=1986\n",
        "print(A)\n"
      ],
      "metadata": {
        "colab": {
          "base_uri": "https://localhost:8080/"
        },
        "id": "BoqxCvvxN7OI",
        "outputId": "7a6b1c29-05b1-4cdc-b218-7ccd521a498d"
      },
      "execution_count": 7,
      "outputs": [
        {
          "output_type": "stream",
          "name": "stdout",
          "text": [
            "1986\n"
          ]
        }
      ]
    },
    {
      "cell_type": "code",
      "source": [
        "chethan=20\n",
        "print(chethan)\n",
        "\n"
      ],
      "metadata": {
        "colab": {
          "base_uri": "https://localhost:8080/"
        },
        "id": "XIJ_SZfGONQ4",
        "outputId": "811fcf11-66d7-4fa4-ce90-797c9a6923e3"
      },
      "execution_count": 32,
      "outputs": [
        {
          "output_type": "stream",
          "name": "stdout",
          "text": [
            "20\n"
          ]
        }
      ]
    },
    {
      "cell_type": "code",
      "source": [
        "chethan=124364646\n",
        "dushyanth=1546\n",
        "raj=987466\n",
        "jayankar=78946\n",
        "print(chethan)\n",
        "print(dushyanth)\n",
        "print(raj)\n",
        "print(jayankar)"
      ],
      "metadata": {
        "colab": {
          "base_uri": "https://localhost:8080/"
        },
        "id": "_v5yci_vPpHu",
        "outputId": "994ff37b-b2a4-4209-ad8e-7587b5b1117c"
      },
      "execution_count": 18,
      "outputs": [
        {
          "output_type": "stream",
          "name": "stdout",
          "text": [
            "124364646\n",
            "1546\n",
            "987466\n",
            "78946\n"
          ]
        }
      ]
    },
    {
      "cell_type": "code",
      "source": [
        "\n",
        "print(\"CitCollegeGubbi\")"
      ],
      "metadata": {
        "colab": {
          "base_uri": "https://localhost:8080/"
        },
        "id": "UtMCn16_QW1m",
        "outputId": "d6b9b02a-697e-40c2-f853-23cfe39f760d"
      },
      "execution_count": 23,
      "outputs": [
        {
          "output_type": "stream",
          "name": "stdout",
          "text": [
            "CitCollegeGubbi\n"
          ]
        }
      ]
    },
    {
      "cell_type": "code",
      "source": [
        "cit_college_gubbi='snake'\n",
        "print(cit_college_gubbi)"
      ],
      "metadata": {
        "colab": {
          "base_uri": "https://localhost:8080/"
        },
        "id": "TWHKl9fSRAJn",
        "outputId": "b6d9dfc2-659c-4e14-8b20-322c78cad82b"
      },
      "execution_count": 24,
      "outputs": [
        {
          "output_type": "stream",
          "name": "stdout",
          "text": [
            "snake\n"
          ]
        }
      ]
    },
    {
      "cell_type": "code",
      "source": [
        "CitCollegeGubbi='Camel'\n",
        "print(CitCollegeGubbi)"
      ],
      "metadata": {
        "colab": {
          "base_uri": "https://localhost:8080/"
        },
        "id": "7rbTmObRSEwV",
        "outputId": "9284e31f-f649-46ad-9b82-73f2db96875f"
      },
      "execution_count": 26,
      "outputs": [
        {
          "output_type": "stream",
          "name": "stdout",
          "text": [
            "Camel\n"
          ]
        }
      ]
    },
    {
      "cell_type": "code",
      "source": [
        "abc=456\n",
        "print(abc)\n",
        "abc=abc+877\n",
        "print(abc)"
      ],
      "metadata": {
        "colab": {
          "base_uri": "https://localhost:8080/"
        },
        "id": "fxj9RBtQSfyq",
        "outputId": "600c1c90-a16b-42e8-f55e-d9d385844498"
      },
      "execution_count": 27,
      "outputs": [
        {
          "output_type": "stream",
          "name": "stdout",
          "text": [
            "456\n",
            "1333\n"
          ]
        }
      ]
    },
    {
      "cell_type": "code",
      "source": [
        "a=5\n",
        "type(a)"
      ],
      "metadata": {
        "colab": {
          "base_uri": "https://localhost:8080/"
        },
        "id": "Q8sONG7KUBLk",
        "outputId": "190b658e-6856-434a-eb91-e21eec8ab0b7"
      },
      "execution_count": 28,
      "outputs": [
        {
          "output_type": "execute_result",
          "data": {
            "text/plain": [
              "int"
            ]
          },
          "metadata": {},
          "execution_count": 28
        }
      ]
    },
    {
      "cell_type": "code",
      "source": [
        "b=8.678\n",
        "type(b)"
      ],
      "metadata": {
        "colab": {
          "base_uri": "https://localhost:8080/"
        },
        "id": "hsYl7b8hUHuf",
        "outputId": "f5be12cc-00e6-4e1b-de4d-49f947e0b6fd"
      },
      "execution_count": 29,
      "outputs": [
        {
          "output_type": "execute_result",
          "data": {
            "text/plain": [
              "float"
            ]
          },
          "metadata": {},
          "execution_count": 29
        }
      ]
    },
    {
      "cell_type": "code",
      "source": [
        "c='CIT'\n",
        "type(c)"
      ],
      "metadata": {
        "colab": {
          "base_uri": "https://localhost:8080/"
        },
        "id": "N4cgthHcUOy3",
        "outputId": "41ffd90b-db11-4c1d-e424-96efd6a159ed"
      },
      "execution_count": 31,
      "outputs": [
        {
          "output_type": "execute_result",
          "data": {
            "text/plain": [
              "str"
            ]
          },
          "metadata": {},
          "execution_count": 31
        }
      ]
    },
    {
      "cell_type": "code",
      "source": [
        "d='5634'\n",
        "type(d)"
      ],
      "metadata": {
        "colab": {
          "base_uri": "https://localhost:8080/"
        },
        "id": "isnLgMeqUr2C",
        "outputId": "93913ca1-2944-4890-e166-4553eaae7146"
      },
      "execution_count": 33,
      "outputs": [
        {
          "output_type": "execute_result",
          "data": {
            "text/plain": [
              "str"
            ]
          },
          "metadata": {},
          "execution_count": 33
        }
      ]
    },
    {
      "cell_type": "code",
      "source": [
        "a=768.78\n",
        "int(a)"
      ],
      "metadata": {
        "colab": {
          "base_uri": "https://localhost:8080/"
        },
        "id": "MV6n9EWJWo0E",
        "outputId": "20fe8108-bd14-4c70-c46d-485723d8e2a3"
      },
      "execution_count": 34,
      "outputs": [
        {
          "output_type": "execute_result",
          "data": {
            "text/plain": [
              "768"
            ]
          },
          "metadata": {},
          "execution_count": 34
        }
      ]
    },
    {
      "cell_type": "code",
      "source": [
        "b=46\n",
        "float(b)"
      ],
      "metadata": {
        "colab": {
          "base_uri": "https://localhost:8080/"
        },
        "id": "1s1iF2lRWt2X",
        "outputId": "621bd13b-39eb-4f03-f54f-484792598bba"
      },
      "execution_count": 37,
      "outputs": [
        {
          "output_type": "execute_result",
          "data": {
            "text/plain": [
              "46.0"
            ]
          },
          "metadata": {},
          "execution_count": 37
        }
      ]
    },
    {
      "cell_type": "code",
      "source": [
        "c=676\n",
        "str(c)"
      ],
      "metadata": {
        "colab": {
          "base_uri": "https://localhost:8080/",
          "height": 35
        },
        "id": "2RIhssbxXADA",
        "outputId": "db293524-0a3c-4cab-c7da-3585985a081f"
      },
      "execution_count": 38,
      "outputs": [
        {
          "output_type": "execute_result",
          "data": {
            "text/plain": [
              "'676'"
            ],
            "application/vnd.google.colaboratory.intrinsic+json": {
              "type": "string"
            }
          },
          "metadata": {},
          "execution_count": 38
        }
      ]
    },
    {
      "cell_type": "code",
      "source": [
        "c=('get')\n",
        "str(c)"
      ],
      "metadata": {
        "colab": {
          "base_uri": "https://localhost:8080/",
          "height": 35
        },
        "id": "KYlTy82GXNF1",
        "outputId": "31c2fe2d-622b-4395-98ff-58056df2df2a"
      },
      "execution_count": 41,
      "outputs": [
        {
          "output_type": "execute_result",
          "data": {
            "text/plain": [
              "'get'"
            ],
            "application/vnd.google.colaboratory.intrinsic+json": {
              "type": "string"
            }
          },
          "metadata": {},
          "execution_count": 41
        }
      ]
    },
    {
      "cell_type": "code",
      "source": [
        "print('what is your name')\n",
        "name=input()\n",
        "print(' my name is',name)"
      ],
      "metadata": {
        "colab": {
          "base_uri": "https://localhost:8080/"
        },
        "id": "KweMwRhQaTo6",
        "outputId": "4516b874-bf33-4d94-8424-5ec2e59f4130"
      },
      "execution_count": 44,
      "outputs": [
        {
          "output_type": "stream",
          "name": "stdout",
          "text": [
            "what is your name\n",
            "Chethan.M.S\n",
            " my name is Chethan.M.S\n"
          ]
        }
      ]
    },
    {
      "cell_type": "code",
      "source": [
        "print('what is pu mark percentage')\n",
        "percentage=input()\n",
        "print('my pu mark percentage is ',percentage)"
      ],
      "metadata": {
        "colab": {
          "base_uri": "https://localhost:8080/"
        },
        "id": "LFSF6Cj8bNV9",
        "outputId": "40797824-33bb-46d8-e1aa-bdfcc9d57a61"
      },
      "execution_count": 46,
      "outputs": [
        {
          "output_type": "stream",
          "name": "stdout",
          "text": [
            "what is pu mark percentage\n",
            "94.5\n",
            "my pu mark percentage is  94.5\n"
          ]
        }
      ]
    },
    {
      "cell_type": "code",
      "source": [
        "print('what is your age')\n",
        "age=input()\n",
        "print('my age is',age)\n",
        "print('which is your country')\n",
        "country=input()\n",
        "print('my country is ',country)\n",
        "print('which is your state',)\n",
        "state=input()\n",
        "print('my state is',state)\n"
      ],
      "metadata": {
        "colab": {
          "base_uri": "https://localhost:8080/"
        },
        "id": "zfu9k2F2cf03",
        "outputId": "dc06d9b1-507d-424f-f1bb-c969ed1da549"
      },
      "execution_count": 48,
      "outputs": [
        {
          "output_type": "stream",
          "name": "stdout",
          "text": [
            "what is your age\n",
            "18\n",
            "my age is 18\n",
            "which is your country\n",
            "INDIA\n",
            "my country is  INDIA\n",
            "which is your state\n",
            "KARNATAKA\n",
            "my state is KARNATAKA\n"
          ]
        }
      ]
    },
    {
      "cell_type": "code",
      "source": [
        "print('who invented computer')\n",
        "invented=input()\n",
        "print('COMPUTER WAS invented BY ',invented)\n"
      ],
      "metadata": {
        "colab": {
          "base_uri": "https://localhost:8080/"
        },
        "id": "U3xI0ijQd07z",
        "outputId": "b69b13d4-46ef-4ec8-fb23-5ebcce9b76d7"
      },
      "execution_count": 49,
      "outputs": [
        {
          "output_type": "stream",
          "name": "stdout",
          "text": [
            "who invented computer\n",
            "charles babbage\n",
            "COMPUTER WAS invented BY  charles babbage\n"
          ]
        }
      ]
    },
    {
      "cell_type": "code",
      "source": [
        "a='hello world'\n",
        "len(a)"
      ],
      "metadata": {
        "colab": {
          "base_uri": "https://localhost:8080/"
        },
        "id": "MNUJ4ytmeRyU",
        "outputId": "82a20f68-348f-43fd-f9ed-fa8adca7a319"
      },
      "execution_count": 52,
      "outputs": [
        {
          "output_type": "execute_result",
          "data": {
            "text/plain": [
              "11"
            ]
          },
          "metadata": {},
          "execution_count": 52
        }
      ]
    },
    {
      "cell_type": "code",
      "source": [
        "print('enter your college name')\n",
        "name=input()\n",
        "print('The number of characters in college name is ', name)\n",
        "print(len(name))\n",
        "\n"
      ],
      "metadata": {
        "colab": {
          "base_uri": "https://localhost:8080/"
        },
        "id": "xz31XFyue1mb",
        "outputId": "e9b61ac4-9933-4f9f-a4d9-5d9911edaa9b"
      },
      "execution_count": 55,
      "outputs": [
        {
          "output_type": "stream",
          "name": "stdout",
          "text": [
            "enter your college name\n",
            "Channabasaveshwara institute of technology\n",
            "The number of characters in college name is  Channabasaveshwara institute of technology\n",
            "42\n"
          ]
        }
      ]
    },
    {
      "cell_type": "code",
      "source": [
        "print('enter yoour monitor name ')\n",
        "name=input()\n",
        "print('the number of character in monitor name is ',len(name))\n",
        "\n"
      ],
      "metadata": {
        "colab": {
          "base_uri": "https://localhost:8080/"
        },
        "id": "w9NtBCelhDRD",
        "outputId": "f9edb6ca-e4d6-4791-d7a9-ee1068bb067a"
      },
      "execution_count": 59,
      "outputs": [
        {
          "output_type": "stream",
          "name": "stdout",
          "text": [
            "enter yoour monitor name \n",
            "samsung\n",
            "the number of character in monitor name is  7\n"
          ]
        }
      ]
    }
  ]
}