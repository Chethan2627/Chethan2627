{
  "nbformat": 4,
  "nbformat_minor": 0,
  "metadata": {
    "colab": {
      "provenance": [],
      "authorship_tag": "ABX9TyMxznHB1511KryeIembeHLk",
      "include_colab_link": true
    },
    "kernelspec": {
      "name": "python3",
      "display_name": "Python 3"
    },
    "language_info": {
      "name": "python"
    }
  },
  "cells": [
    {
      "cell_type": "markdown",
      "metadata": {
        "id": "view-in-github",
        "colab_type": "text"
      },
      "source": [
        "<a href=\"https://colab.research.google.com/github/Chethan2627/Chethan2627/blob/main/Program6_Numerical_solutions_of_system_of_linear_equations_by_gauss_siedel_method.ipynb\" target=\"_parent\"><img src=\"https://colab.research.google.com/assets/colab-badge.svg\" alt=\"Open In Colab\"/></a>"
      ]
    },
    {
      "cell_type": "markdown",
      "source": [
        "1) Solve by Gauss seidel method x+2y-z=3,3x-y+2z=1,2x-2y+8z=2:"
      ],
      "metadata": {
        "id": "TqLhizShhqmt"
      }
    },
    {
      "cell_type": "code",
      "source": [
        "f1=lambda x,y,z:(1+y-2*z)/3\n",
        "f2=lambda x,y,z:(3-x+z)/2\n",
        "f3=lambda x,y,z:(2-2*x+2*y)/8\n",
        "x0=0\n",
        "y0=0\n",
        "z0=0\n",
        "count = 1\n",
        "e = float(input(\"Enter tolerable error: \"))\n",
        "print('\\nCount\\tx\\ty\\tz\\n')\n",
        "condition = True\n",
        "while condition:\n",
        "  x1=f1(x0,y0,z0)\n",
        "  y1=f2(x1,y0,z0)\n",
        "  z1=f3(x1,y1,z0)\n",
        "  print('%d\\t%0.4f\\t%0.4f\\t%0.4f\\n'%(count,x1,y1,z1))\n",
        "  e1=abs(x0-x1);\n",
        "  e2=abs(y0-y1);\n",
        "  e3=abs(z0-z1);\n",
        "  count+=1\n",
        "  x0=x1\n",
        "  y0=y1\n",
        "  z0=z1\n",
        "  condition=e1>e and e2>e and e3>e\n",
        "print('\\nSolution:x=%0.3f,y=%0.3f,z=%0.3f\\n'%(x1,y1,z1))"
      ],
      "metadata": {
        "colab": {
          "base_uri": "https://localhost:8080/"
        },
        "id": "lh2-DUDgiqQL",
        "outputId": "a5f2d685-5ff2-4f5f-c8ba-cdaad1ce1ab5"
      },
      "execution_count": null,
      "outputs": [
        {
          "output_type": "stream",
          "name": "stdout",
          "text": [
            "Enter tolerable error: 0.0001\n",
            "\n",
            "Count\tx\ty\tz\n",
            "\n",
            "1\t0.3333\t1.3333\t0.5000\n",
            "\n",
            "2\t0.4444\t1.5278\t0.5208\n",
            "\n",
            "3\t0.4954\t1.5127\t0.5043\n",
            "\n",
            "4\t0.5014\t1.5015\t0.5000\n",
            "\n",
            "5\t0.5005\t1.4998\t0.4998\n",
            "\n",
            "6\t0.5000\t1.4999\t0.5000\n",
            "\n",
            "7\t0.5000\t1.5000\t0.5000\n",
            "\n",
            "\n",
            "Solution:x=0.500,y=1.500,z=0.500\n",
            "\n"
          ]
        }
      ]
    },
    {
      "cell_type": "markdown",
      "source": [
        "2) 20x+y-2z=17, 3x+20y-z=-18,2x-3y+20z=25"
      ],
      "metadata": {
        "id": "PsTsM0vwsymC"
      }
    },
    {
      "cell_type": "code",
      "source": [
        "f1=lambda x,y,z:(17-y+2*z)/20\n",
        "f2=lambda x,y,z:(-18-3*x+z)/20\n",
        "f3=lambda x,y,z:(25-2*x+3*y)/20\n",
        "x0=0\n",
        "y0=0\n",
        "z0=0\n",
        "count = 1\n",
        "e = float(input(\"Enter tolerable error: \"))\n",
        "print('\\nCount\\tx\\ty\\tz\\n')\n",
        "condition = True\n",
        "while condition:\n",
        "  x1=f1(x0,y0,z0)\n",
        "  y1=f2(x1,y0,z0)\n",
        "  z1=f3(x1,y1,z0)\n",
        "  print('%d\\t%0.4f\\t%0.4f\\t%0.4f\\n'%(count,x1,y1,z1))\n",
        "  e1=abs(x0-x1);\n",
        "  e2=abs(y0-y1);\n",
        "  e3=abs(z0-z1);\n",
        "  count+=1\n",
        "  x0=x1\n",
        "  y0=y1\n",
        "  z0=z1\n",
        "  condition=e1>e and e2>e and e3>e\n",
        "print('\\nSolution:x=%0.3f,y=%0.3f,z=%0.3f\\n'%(x1,y1,z1))"
      ],
      "metadata": {
        "colab": {
          "base_uri": "https://localhost:8080/"
        },
        "outputId": "dc4bd06b-48cc-40ef-932f-b7ceecd5053d",
        "id": "2-gF3ocVtOpk"
      },
      "execution_count": null,
      "outputs": [
        {
          "output_type": "stream",
          "name": "stdout",
          "text": [
            "Enter tolerable error: 0.0001\n",
            "\n",
            "Count\tx\ty\tz\n",
            "\n",
            "1\t0.8500\t-1.0275\t1.0109\n",
            "\n",
            "2\t1.0025\t-0.9998\t0.9998\n",
            "\n",
            "3\t1.0000\t-1.0000\t1.0000\n",
            "\n",
            "4\t1.0000\t-1.0000\t1.0000\n",
            "\n",
            "\n",
            "Solution:x=1.000,y=-1.000,z=1.000\n",
            "\n"
          ]
        }
      ]
    },
    {
      "cell_type": "markdown",
      "source": [
        "83x+11y-4z=95, 3x+8y+29z=71, 7x+52y+13x=104"
      ],
      "metadata": {
        "id": "WbvAgzLRuRJj"
      }
    },
    {
      "cell_type": "code",
      "source": [
        "f1=lambda x,y,z:(95-11*y+4**z)/83\n",
        "f2=lambda x,y,z:(104-7*x-13*z)/52\n",
        "f3=lambda x,y,z:(71-3*x-8*y)/29\n",
        "x0=0\n",
        "y0=0\n",
        "z0=0\n",
        "count = 1\n",
        "e = float(input(\"Enter tolerable error: \"))\n",
        "print('\\nCount\\tx\\ty\\tz\\n')\n",
        "condition = True\n",
        "while condition:\n",
        "  x1=f1(x0,y0,z0)\n",
        "  y1=f2(x1,y0,z0)\n",
        "  z1=f3(x1,y1,z0)\n",
        "  print('%d\\t%0.4f\\t%0.4f\\t%0.4f\\n'%(count,x1,y1,z1))\n",
        "  e1=abs(x0-x1);\n",
        "  e2=abs(y0-y1);\n",
        "  e3=abs(z0-z1);\n",
        "  count+=1\n",
        "  x0=x1\n",
        "  y0=y1\n",
        "  z0=z1\n",
        "  condition=e1>e and e2>e and e3>e\n",
        "print('\\nSolution:x=%0.3f,y=%0.3f,z=%0.3f\\n'%(x1,y1,z1))"
      ],
      "metadata": {
        "colab": {
          "base_uri": "https://localhost:8080/"
        },
        "outputId": "e8406e6f-1a53-405c-e754-d1d1c465cf5d",
        "id": "il8w6Kkgt5yf"
      },
      "execution_count": null,
      "outputs": [
        {
          "output_type": "stream",
          "name": "stdout",
          "text": [
            "Enter tolerable error: 0.0001\n",
            "\n",
            "Count\tx\ty\tz\n",
            "\n",
            "1\t1.1566\t1.8443\t1.8199\n",
            "\n",
            "2\t1.0503\t1.4036\t1.9524\n",
            "\n",
            "3\t1.1390\t1.3586\t1.9557\n",
            "\n",
            "4\t1.1458\t1.3568\t1.9554\n",
            "\n",
            "5\t1.1460\t1.3569\t1.9554\n",
            "\n",
            "\n",
            "Solution:x=1.146,y=1.357,z=1.955\n",
            "\n"
          ]
        }
      ]
    }
  ]
}