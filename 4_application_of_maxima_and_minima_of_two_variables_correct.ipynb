{
  "nbformat": 4,
  "nbformat_minor": 0,
  "metadata": {
    "colab": {
      "provenance": [],
      "include_colab_link": true
    },
    "kernelspec": {
      "name": "python3",
      "display_name": "Python 3"
    },
    "language_info": {
      "name": "python"
    }
  },
  "cells": [
    {
      "cell_type": "markdown",
      "metadata": {
        "id": "view-in-github",
        "colab_type": "text"
      },
      "source": [
        "<a href=\"https://colab.research.google.com/github/Chethan2627/Chethan2627/blob/main/4_application_of_maxima_and_minima_of_two_variables_correct.ipynb\" target=\"_parent\"><img src=\"https://colab.research.google.com/assets/colab-badge.svg\" alt=\"Open In Colab\"/></a>"
      ]
    },
    {
      "cell_type": "markdown",
      "source": [
        "Find the maxima and minima of f(x,y)=x^2*y-3x^2-2y^2-4y+3"
      ],
      "metadata": {
        "id": "ISN-xXSuSikr"
      }
    },
    {
      "cell_type": "code",
      "source": [
        "\n",
        "import sympy as sp\n",
        "\n",
        "# Define the variables and function\n",
        "x, y = sp.symbols('x y')\n",
        "f=x**2*y-3*x**2-2*y**2-4*y+3\n",
        "# Compute the partial derivatives\n",
        "fx = sp.diff(f, x)\n",
        "fy = sp.diff(f, y)\n",
        "\n",
        "# Solve the system of equations fx = 0 and fy = 0\n",
        "stationary_points = sp.solve([fx, fy], (x, y))\n",
        "\n",
        "# Classify the stationary points and find maxima / minima values\n",
        "second_derivatives = {\n",
        "    'fxx': sp.diff(fx, x),\n",
        "    'fyy': sp.diff(fy, y),\n",
        "    'fxy': sp.diff(fx, y),\n",
        "}\n",
        "\n",
        "\n",
        "print(\"Stationary points, second derivatives, and classification:\")\n",
        "maximum_point = None\n",
        "minimum_point = None\n",
        "maximum_value = float('-inf')\n",
        "minimum_value = float('inf')\n",
        "\n",
        "for point in stationary_points:\n",
        "    x_val, y_val = point\n",
        "    f_val = f.subs({x: x_val, y: y_val})\n",
        "\n",
        "    # Evaluate second derivatives at the stationary point\n",
        "    fxx = second_derivatives['fxx'].subs({x: x_val, y: y_val})\n",
        "    fyy = second_derivatives['fyy'].subs({x: x_val, y: y_val})\n",
        "    fxy = second_derivatives['fxy'].subs({x: x_val, y: y_val})\n",
        "\n",
        "    # Determine the nature of the stationary point using the Hessian determinant\n",
        "    Hessian = fxx * fyy - fxy**2\n",
        "\n",
        "    if Hessian > 0:\n",
        "        if fxx > 0:\n",
        "            classification = 'Local minimum'\n",
        "            if f_val < minimum_value:\n",
        "                minimum_value = f_val\n",
        "                minimum_point = point\n",
        "        else: #fxx<0\n",
        "            classification = 'Local maximum'\n",
        "            if f_val > maximum_value:\n",
        "                maximum_value = f_val\n",
        "                maximum_point = point\n",
        "    elif Hessian < 0:\n",
        "        classification = \"Saddle point\"\n",
        "    else:\n",
        "        classification = \"Indeterminate\"\n",
        "\n",
        "    # Print the details for each stationary point\n",
        "    print(f\"Point: {point}, f(x, y) = {f_val}, fxx = {fxx}, fyy = {fyy}, fxy = {fxy}, \"\n",
        "          f\"Hessian = {Hessian}, Classification: {classification}\")\n",
        "\n",
        "# Print the final results\n",
        "print(\"\\nResults:\")\n",
        "if maximum_point:\n",
        "    print(f\"Maximum point is {maximum_point} with functional value {maximum_value}\")\n",
        "if minimum_point:\n",
        "    print(f\"Minimum point is {minimum_point} with functional value {minimum_value}\")"
      ],
      "metadata": {
        "id": "sjD3giR5su5f",
        "outputId": "52d9ad59-a861-482d-d6fc-026eec877ec2",
        "colab": {
          "base_uri": "https://localhost:8080/"
        }
      },
      "execution_count": null,
      "outputs": [
        {
          "output_type": "stream",
          "name": "stdout",
          "text": [
            "Stationary points, second derivatives, and classification:\n",
            "Point: (-4, 3), f(x, y) = -27, fxx = 0, fyy = -4, fxy = -8, Hessian = -64, Classification: Saddle point\n",
            "Point: (0, -1), f(x, y) = 5, fxx = -8, fyy = -4, fxy = 0, Hessian = 32, Classification: Local maximum\n",
            "Point: (4, 3), f(x, y) = -27, fxx = 0, fyy = -4, fxy = 8, Hessian = -64, Classification: Saddle point\n",
            "\n",
            "Results:\n",
            "Maximum point is (0, -1) with functional value 5\n"
          ]
        }
      ]
    },
    {
      "cell_type": "markdown",
      "source": [
        "2.Find the maxima and minima of f(X,Y)=X^3+3XY^2-15Y^2+72X"
      ],
      "metadata": {
        "id": "B59bOvuZSuu6"
      }
    },
    {
      "cell_type": "code",
      "source": [
        "import sympy as sp\n",
        "\n",
        "# Define the variables and function\n",
        "x, y = sp.symbols('x y')\n",
        "f=x**3 + 3*x*y**2 - 15*x**2 - 15*y**2 +72*x\n",
        "# Compute the partial derivatives\n",
        "fx = sp.diff(f, x)\n",
        "fy = sp.diff(f, y)\n",
        "\n",
        "# Solve the system of equations fx = 0 and fy = 0\n",
        "stationary_points = sp.solve([fx, fy], (x, y))\n",
        "\n",
        "# Classify the stationary points and find maxima / minima values\n",
        "second_derivatives = {\n",
        "    'fxx': sp.diff(fx, x),\n",
        "    'fyy': sp.diff(fy, y),\n",
        "    'fxy': sp.diff(fx, y),\n",
        "}\n",
        "\n",
        "\n",
        "print(\"Stationary points, second derivatives, and classification:\")\n",
        "maximum_point = None\n",
        "minimum_point = None\n",
        "maximum_value = float('-inf')\n",
        "minimum_value = float('inf')\n",
        "\n",
        "for point in stationary_points:\n",
        "    x_val, y_val = point\n",
        "    f_val = f.subs({x: x_val, y: y_val})\n",
        "\n",
        "    # Evaluate second derivatives at the stationary point\n",
        "    fxx = second_derivatives['fxx'].subs({x: x_val, y: y_val})\n",
        "    fyy = second_derivatives['fyy'].subs({x: x_val, y: y_val})\n",
        "    fxy = second_derivatives['fxy'].subs({x: x_val, y: y_val})\n",
        "\n",
        "    # Determine the nature of the stationary point using the Hessian determinant\n",
        "    Hessian = fxx * fyy - fxy**2\n",
        "\n",
        "    if Hessian > 0:\n",
        "        if fxx > 0:\n",
        "            classification = 'Local minimum'\n",
        "            if f_val < minimum_value:\n",
        "                minimum_value = f_val\n",
        "                minimum_point = point\n",
        "        else: #fxx<0\n",
        "            classification = 'Local maximum'\n",
        "            if f_val > maximum_value:\n",
        "                maximum_value = f_val\n",
        "                maximum_point = point\n",
        "    elif Hessian < 0:\n",
        "        classification = \"Saddle point\"\n",
        "    else:\n",
        "        classification = \"Indeterminate\"\n",
        "\n",
        "    # Print the details for each stationary point\n",
        "    print(f\"Point: {point}, f(x, y) = {f_val}, fxx = {fxx}, fyy = {fyy}, fxy = {fxy}, \"\n",
        "          f\"Hessian = {Hessian}, Classification: {classification}\")\n",
        "\n",
        "# Print the final results\n",
        "print(\"\\nResults:\")\n",
        "if maximum_point:\n",
        "    print(f\"Maximum point is {maximum_point} with functional value {maximum_value}\")\n",
        "if minimum_point:\n",
        "    print(f\"Minimum point is {minimum_point} with functional value {minimum_value}\")"
      ],
      "metadata": {
        "colab": {
          "base_uri": "https://localhost:8080/"
        },
        "id": "WtapOPTmTogq",
        "outputId": "01177d78-1baf-4349-eb13-c2e1b23ed037"
      },
      "execution_count": null,
      "outputs": [
        {
          "output_type": "stream",
          "name": "stdout",
          "text": [
            "Stationary points, second derivatives, and classification:\n",
            "Point: (4, 0), f(x, y) = 112, fxx = -6, fyy = -6, fxy = 0, Hessian = 36, Classification: Local maximum\n",
            "Point: (5, -1), f(x, y) = 110, fxx = 0, fyy = 0, fxy = -6, Hessian = -36, Classification: Saddle point\n",
            "Point: (5, 1), f(x, y) = 110, fxx = 0, fyy = 0, fxy = 6, Hessian = -36, Classification: Saddle point\n",
            "Point: (6, 0), f(x, y) = 108, fxx = 6, fyy = 6, fxy = 0, Hessian = 36, Classification: Local minimum\n",
            "\n",
            "Results:\n",
            "Maximum point is (4, 0) with functional value 112\n",
            "Minimum point is (6, 0) with functional value 108\n"
          ]
        }
      ]
    },
    {
      "cell_type": "markdown",
      "source": [
        "3.Find the maxima and minima of f(X,Y)=(X^3)(Y^2)(1-x-y)"
      ],
      "metadata": {
        "id": "Ng-Q9Y3GUbzg"
      }
    },
    {
      "cell_type": "code",
      "source": [
        "import sympy as sp\n",
        "\n",
        "# Define the variables and function\n",
        "x, y = sp.symbols('x y')\n",
        "f=x**3*y**2*(1-x-y)\n",
        "# Compute the partial derivatives\n",
        "fx = sp.diff(f, x)\n",
        "fy = sp.diff(f, y)\n",
        "\n",
        "# Solve the system of equations fx = 0 and fy = 0\n",
        "stationary_points = sp.solve([fx, fy], (x, y))\n",
        "\n",
        "# Classify the stationary points and find maxima / minima values\n",
        "second_derivatives = {\n",
        "    'fxx': sp.diff(fx, x),\n",
        "    'fyy': sp.diff(fy, y),\n",
        "    'fxy': sp.diff(fx, y),\n",
        "}\n",
        "\n",
        "\n",
        "print(\"Stationary points, second derivatives, and classification:\")\n",
        "maximum_point = None\n",
        "minimum_point = None\n",
        "maximum_value = float('-inf')\n",
        "minimum_value = float('inf')\n",
        "\n",
        "for point in stationary_points:\n",
        "    x_val, y_val = point\n",
        "    f_val = f.subs({x: x_val, y: y_val})\n",
        "\n",
        "    # Evaluate second derivatives at the stationary point\n",
        "    fxx = second_derivatives['fxx'].subs({x: x_val, y: y_val})\n",
        "    fyy = second_derivatives['fyy'].subs({x: x_val, y: y_val})\n",
        "    fxy = second_derivatives['fxy'].subs({x: x_val, y: y_val})\n",
        "\n",
        "    # Determine the nature of the stationary point using the Hessian determinant\n",
        "    Hessian = fxx * fyy - fxy**2\n",
        "\n",
        "    if Hessian > 0:\n",
        "        if fxx > 0:\n",
        "            classification = 'Local minimum'\n",
        "            if f_val < minimum_value:\n",
        "                minimum_value = f_val\n",
        "                minimum_point = point\n",
        "        else: #fxx<0\n",
        "            classification = 'Local maximum'\n",
        "            if f_val > maximum_value:\n",
        "                maximum_value = f_val\n",
        "                maximum_point = point\n",
        "    elif Hessian < 0:\n",
        "        classification = \"Saddle point\"\n",
        "    else:\n",
        "        classification = \"Indeterminate\"\n",
        "\n",
        "    # Print the details for each stationary point\n",
        "    print(f\"Point: {point}, f(x, y) = {f_val}, fxx = {fxx}, fyy = {fyy}, fxy = {fxy}, \"\n",
        "          f\"Hessian = {Hessian}, Classification: {classification}\")\n",
        "\n",
        "# Print the final results\n",
        "print(\"\\nResults:\")\n",
        "if maximum_point:\n",
        "    print(f\"Maximum point is {maximum_point} with functional value {maximum_value}\")\n",
        "if minimum_point:\n",
        "    print(f\"Minimum point is {minimum_point} with functional value {minimum_value}\")"
      ],
      "metadata": {
        "colab": {
          "base_uri": "https://localhost:8080/"
        },
        "id": "5-ebcPvdU0gw",
        "outputId": "91ad37da-ea3b-4a27-b217-4de2c314a4fa"
      },
      "execution_count": null,
      "outputs": [
        {
          "output_type": "stream",
          "name": "stdout",
          "text": [
            "Stationary points, second derivatives, and classification:\n",
            "Point: (0, y), f(x, y) = 0, fxx = 0, fyy = 0, fxy = 0, Hessian = 0, Classification: Indeterminate\n",
            "Point: (x, 0), f(x, y) = 0, fxx = 0, fyy = 2*x**3*(1 - x), fxy = 0, Hessian = 0, Classification: Indeterminate\n",
            "Point: (0, 2/3), f(x, y) = 0, fxx = 0, fyy = 0, fxy = 0, Hessian = 0, Classification: Indeterminate\n",
            "Point: (1/2, 1/3), f(x, y) = 1/432, fxx = -1/9, fyy = -1/8, fxy = -1/12, Hessian = 1/144, Classification: Local maximum\n",
            "Point: (1, 0), f(x, y) = 0, fxx = 0, fyy = 0, fxy = 0, Hessian = 0, Classification: Indeterminate\n",
            "\n",
            "Results:\n",
            "Maximum point is (1/2, 1/3) with functional value 1/432\n"
          ]
        }
      ]
    }
  ]
}