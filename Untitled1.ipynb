{
  "nbformat": 4,
  "nbformat_minor": 0,
  "metadata": {
    "colab": {
      "provenance": [],
      "authorship_tag": "ABX9TyO5WLyMWCzAw4acC/vmfOSl",
      "include_colab_link": true
    },
    "kernelspec": {
      "name": "python3",
      "display_name": "Python 3"
    },
    "language_info": {
      "name": "python"
    }
  },
  "cells": [
    {
      "cell_type": "markdown",
      "metadata": {
        "id": "view-in-github",
        "colab_type": "text"
      },
      "source": [
        "<a href=\"https://colab.research.google.com/github/Chethan2627/Chethan2627/blob/main/Untitled1.ipynb\" target=\"_parent\"><img src=\"https://colab.research.google.com/assets/colab-badge.svg\" alt=\"Open In Colab\"/></a>"
      ]
    },
    {
      "cell_type": "code",
      "source": [
        "(5-1)*((7+1)/(3-1))"
      ],
      "metadata": {
        "id": "Yo52HAggy2AA",
        "colab": {
          "base_uri": "https://localhost:8080/",
          "height": 0
        },
        "outputId": "d6f5408d-48a5-42c4-c96e-9b8da2cd7b7c"
      },
      "execution_count": 1,
      "outputs": [
        {
          "output_type": "execute_result",
          "data": {
            "text/plain": [
              "16.0"
            ]
          },
          "metadata": {},
          "execution_count": 1
        }
      ]
    },
    {
      "cell_type": "code",
      "source": [
        "(2+3)*6"
      ],
      "metadata": {
        "colab": {
          "base_uri": "https://localhost:8080/",
          "height": 0
        },
        "id": "V646a6lGKreh",
        "outputId": "e03d3f4e-4438-4561-b5b3-2fc4f35705e4"
      },
      "execution_count": 2,
      "outputs": [
        {
          "output_type": "execute_result",
          "data": {
            "text/plain": [
              "30"
            ]
          },
          "metadata": {},
          "execution_count": 2
        }
      ]
    },
    {
      "cell_type": "code",
      "source": [
        "10/3"
      ],
      "metadata": {
        "colab": {
          "base_uri": "https://localhost:8080/",
          "height": 0
        },
        "id": "uYgfY6c9LGfd",
        "outputId": "2f52ad43-ba75-48f8-ba27-a8774095fc86"
      },
      "execution_count": 3,
      "outputs": [
        {
          "output_type": "execute_result",
          "data": {
            "text/plain": [
              "3.3333333333333335"
            ]
          },
          "metadata": {},
          "execution_count": 3
        }
      ]
    },
    {
      "cell_type": "code",
      "source": [
        "10//3"
      ],
      "metadata": {
        "colab": {
          "base_uri": "https://localhost:8080/",
          "height": 0
        },
        "id": "zRLy-0uaLLTX",
        "outputId": "afa2d662-17cd-4853-e597-520a43ff72e2"
      },
      "execution_count": 4,
      "outputs": [
        {
          "output_type": "execute_result",
          "data": {
            "text/plain": [
              "3"
            ]
          },
          "metadata": {},
          "execution_count": 4
        }
      ]
    },
    {
      "cell_type": "code",
      "source": [
        "10%3"
      ],
      "metadata": {
        "colab": {
          "base_uri": "https://localhost:8080/",
          "height": 0
        },
        "id": "sqfTba2-LPL3",
        "outputId": "afab1796-0eae-4945-934a-7cca2e93ad69"
      },
      "execution_count": 5,
      "outputs": [
        {
          "output_type": "execute_result",
          "data": {
            "text/plain": [
              "1"
            ]
          },
          "metadata": {},
          "execution_count": 5
        }
      ]
    },
    {
      "cell_type": "code",
      "source": [
        "10**3"
      ],
      "metadata": {
        "colab": {
          "base_uri": "https://localhost:8080/",
          "height": 0
        },
        "id": "pTbANYTTLWK3",
        "outputId": "306c0431-09b8-4a5b-b6da-24335a39a795"
      },
      "execution_count": 6,
      "outputs": [
        {
          "output_type": "execute_result",
          "data": {
            "text/plain": [
              "1000"
            ]
          },
          "metadata": {},
          "execution_count": 6
        }
      ]
    },
    {
      "cell_type": "code",
      "source": [
        "10+3"
      ],
      "metadata": {
        "colab": {
          "base_uri": "https://localhost:8080/",
          "height": 0
        },
        "id": "oWBCuEmfLmOX",
        "outputId": "77dffe6f-e8bd-4628-8cff-c0f2187689eb"
      },
      "execution_count": 7,
      "outputs": [
        {
          "output_type": "execute_result",
          "data": {
            "text/plain": [
              "13"
            ]
          },
          "metadata": {},
          "execution_count": 7
        }
      ]
    },
    {
      "cell_type": "code",
      "source": [
        "10-3"
      ],
      "metadata": {
        "colab": {
          "base_uri": "https://localhost:8080/",
          "height": 0
        },
        "id": "vRyVyhVcLoOH",
        "outputId": "8ac926a1-83f1-4b61-c1dd-e5162de2d9ea"
      },
      "execution_count": 9,
      "outputs": [
        {
          "output_type": "execute_result",
          "data": {
            "text/plain": [
              "7"
            ]
          },
          "metadata": {},
          "execution_count": 9
        }
      ]
    },
    {
      "cell_type": "code",
      "source": [
        "\n",
        "a=7\n",
        "b=3\n",
        "a+b\n"
      ],
      "metadata": {
        "colab": {
          "base_uri": "https://localhost:8080/",
          "height": 0
        },
        "id": "IwnSQBxPLtGA",
        "outputId": "5338d996-f940-403b-a43d-e5c51e9c017c"
      },
      "execution_count": 13,
      "outputs": [
        {
          "output_type": "execute_result",
          "data": {
            "text/plain": [
              "10"
            ]
          },
          "metadata": {},
          "execution_count": 13
        }
      ]
    },
    {
      "cell_type": "code",
      "source": [
        "a=7\n",
        "b=3\n",
        "a-b"
      ],
      "metadata": {
        "colab": {
          "base_uri": "https://localhost:8080/"
        },
        "id": "aKOzM8R8M0Xp",
        "outputId": "62580aa2-8a51-4590-d7af-8a369f189361"
      },
      "execution_count": 14,
      "outputs": [
        {
          "output_type": "execute_result",
          "data": {
            "text/plain": [
              "4"
            ]
          },
          "metadata": {},
          "execution_count": 14
        }
      ]
    },
    {
      "cell_type": "code",
      "source": [
        "a=7\n",
        "b=3\n",
        "a%b"
      ],
      "metadata": {
        "colab": {
          "base_uri": "https://localhost:8080/"
        },
        "id": "WktBpdhzND4X",
        "outputId": "1a5e9577-c2bf-4269-e72c-2895dba7e728"
      },
      "execution_count": 15,
      "outputs": [
        {
          "output_type": "execute_result",
          "data": {
            "text/plain": [
              "1"
            ]
          },
          "metadata": {},
          "execution_count": 15
        }
      ]
    },
    {
      "cell_type": "code",
      "source": [
        "a=7\n",
        "b=3\n",
        "a/b"
      ],
      "metadata": {
        "colab": {
          "base_uri": "https://localhost:8080/"
        },
        "id": "lE2PpJNENLRH",
        "outputId": "35a6f224-91b1-43cc-83e1-ccaa0e34b23f"
      },
      "execution_count": 16,
      "outputs": [
        {
          "output_type": "execute_result",
          "data": {
            "text/plain": [
              "2.3333333333333335"
            ]
          },
          "metadata": {},
          "execution_count": 16
        }
      ]
    },
    {
      "cell_type": "code",
      "source": [
        "a=7\n",
        "b=3\n",
        "a//b"
      ],
      "metadata": {
        "colab": {
          "base_uri": "https://localhost:8080/"
        },
        "id": "N-AW2tZVNTuG",
        "outputId": "33a6695a-8ab4-494e-ec73-78991fbb3802"
      },
      "execution_count": 17,
      "outputs": [
        {
          "output_type": "execute_result",
          "data": {
            "text/plain": [
              "2"
            ]
          },
          "metadata": {},
          "execution_count": 17
        }
      ]
    },
    {
      "cell_type": "code",
      "source": [
        "a=7\n",
        "b=3\n",
        "a*b"
      ],
      "metadata": {
        "colab": {
          "base_uri": "https://localhost:8080/"
        },
        "id": "zMJDi6JkNZ6v",
        "outputId": "14bf5d11-d73f-4fe2-def3-8a82686d5fef"
      },
      "execution_count": 18,
      "outputs": [
        {
          "output_type": "execute_result",
          "data": {
            "text/plain": [
              "21"
            ]
          },
          "metadata": {},
          "execution_count": 18
        }
      ]
    },
    {
      "cell_type": "code",
      "source": [
        "a=7\n",
        "b=3\n",
        "a**b"
      ],
      "metadata": {
        "colab": {
          "base_uri": "https://localhost:8080/"
        },
        "id": "bXhZe4RxNgiY",
        "outputId": "9df6f7bb-b071-4b5f-b621-432084c03ce8"
      },
      "execution_count": 19,
      "outputs": [
        {
          "output_type": "execute_result",
          "data": {
            "text/plain": [
              "343"
            ]
          },
          "metadata": {},
          "execution_count": 19
        }
      ]
    },
    {
      "cell_type": "code",
      "source": [
        "print('python')"
      ],
      "metadata": {
        "colab": {
          "base_uri": "https://localhost:8080/"
        },
        "id": "WPee2L85Oifv",
        "outputId": "66e05de8-9d4f-4514-89fb-273292bd32ab"
      },
      "execution_count": 20,
      "outputs": [
        {
          "output_type": "stream",
          "name": "stdout",
          "text": [
            "python\n"
          ]
        }
      ]
    },
    {
      "cell_type": "code",
      "source": [
        "a=7\n",
        "b=6\n",
        "print(a+b)\n",
        "print(a-b)\n",
        "print(a/b)\n",
        "print(a//b)\n",
        "print(a%b)\n",
        "print(a*b)\n",
        "print(a**b)\n"
      ],
      "metadata": {
        "colab": {
          "base_uri": "https://localhost:8080/"
        },
        "id": "h_XnTqJFPYtI",
        "outputId": "d37adc5b-afdb-4e0b-fbb2-869acc5c974b"
      },
      "execution_count": 21,
      "outputs": [
        {
          "output_type": "stream",
          "name": "stdout",
          "text": [
            "13\n",
            "1\n",
            "1.1666666666666667\n",
            "1\n",
            "1\n",
            "42\n",
            "117649\n"
          ]
        }
      ]
    },
    {
      "cell_type": "code",
      "source": [
        "a=7\n",
        "b=6\n",
        "print('Additiction=',a+b)\n",
        "print('Subtraction=',a-b)\n",
        "print('division=',a/b)\n",
        "print('floor sdivision=',a//b)\n",
        "print('modulus=',a%b)\n",
        "print('multiplication=',a*b)\n",
        "print('exponent',a**b)\n"
      ],
      "metadata": {
        "colab": {
          "base_uri": "https://localhost:8080/"
        },
        "outputId": "8ab2c4f2-258b-4caa-fc43-dda4b9cf8f4c",
        "id": "czt5_LVHUOlu"
      },
      "execution_count": 44,
      "outputs": [
        {
          "output_type": "stream",
          "name": "stdout",
          "text": [
            "Additiction= 13\n",
            "Subtraction= 1\n",
            "division= 1.1666666666666667\n",
            "floor sdivision= 1\n",
            "modulus= 1\n",
            "multiplication= 42\n",
            "exponent 117649\n"
          ]
        }
      ]
    },
    {
      "cell_type": "code",
      "source": [
        "a=7\n",
        "b=6\n",
        "print('a+b')"
      ],
      "metadata": {
        "colab": {
          "base_uri": "https://localhost:8080/"
        },
        "id": "i1RbaVgwQAyG",
        "outputId": "81ef9178-15c4-40a1-9642-f964757cd5af"
      },
      "execution_count": 22,
      "outputs": [
        {
          "output_type": "stream",
          "name": "stdout",
          "text": [
            "a+b\n"
          ]
        }
      ]
    },
    {
      "cell_type": "code",
      "source": [
        "a=85\n",
        "b=67\n",
        "print(a+b)\n",
        "print('a+b')"
      ],
      "metadata": {
        "colab": {
          "base_uri": "https://localhost:8080/"
        },
        "id": "toQ21EUARANX",
        "outputId": "b8ec799c-28eb-4284-ab96-b242e562352b"
      },
      "execution_count": 28,
      "outputs": [
        {
          "output_type": "stream",
          "name": "stdout",
          "text": [
            "sum= 152\n",
            "a+b\n"
          ]
        }
      ]
    },
    {
      "cell_type": "code",
      "source": [
        "a=85\n",
        "b=67\n",
        "print('sum=',a+b)\n"
      ],
      "metadata": {
        "colab": {
          "base_uri": "https://localhost:8080/"
        },
        "outputId": "2dd9b812-ea0f-4222-c6dc-a4f62ee12d5f",
        "id": "_SyLvOxBSYzh"
      },
      "execution_count": 29,
      "outputs": [
        {
          "output_type": "stream",
          "name": "stdout",
          "text": [
            "sum= 152\n"
          ]
        }
      ]
    },
    {
      "cell_type": "code",
      "source": [
        "a=85\n",
        "b=67\n",
        "print('Addition=',a+b)\n"
      ],
      "metadata": {
        "colab": {
          "base_uri": "https://localhost:8080/"
        },
        "outputId": "79c788dd-ed8d-4c94-ee05-24c60807f557",
        "id": "tLTwgYTyS3ZJ"
      },
      "execution_count": 30,
      "outputs": [
        {
          "output_type": "stream",
          "name": "stdout",
          "text": [
            "Addition= 152\n"
          ]
        }
      ]
    },
    {
      "cell_type": "code",
      "source": [
        "a=85\n",
        "b=67\n",
        "print('addition=',a-b)\n"
      ],
      "metadata": {
        "colab": {
          "base_uri": "https://localhost:8080/"
        },
        "outputId": "cf97a514-795b-4e73-c582-092cbeb27190",
        "id": "Dos9cG_lS_nZ"
      },
      "execution_count": 31,
      "outputs": [
        {
          "output_type": "stream",
          "name": "stdout",
          "text": [
            "addition= 18\n"
          ]
        }
      ]
    },
    {
      "cell_type": "code",
      "source": [
        "a=85\n",
        "b=67\n",
        "print('subtraction=',a-b)\n"
      ],
      "metadata": {
        "colab": {
          "base_uri": "https://localhost:8080/"
        },
        "outputId": "7ae766b4-76b7-488f-fe14-cd0fcf39373e",
        "id": "FtcMoGtJTOBK"
      },
      "execution_count": 39,
      "outputs": [
        {
          "output_type": "stream",
          "name": "stdout",
          "text": [
            "subtraction= 18\n"
          ]
        }
      ]
    },
    {
      "cell_type": "code",
      "source": [
        "a=85\n",
        "b=67\n",
        "print('Remainder',a%b)\n"
      ],
      "metadata": {
        "colab": {
          "base_uri": "https://localhost:8080/"
        },
        "outputId": "d518da66-c18c-478b-934e-e01ebfe7f2d9",
        "id": "e3NLtU4-Tyy6"
      },
      "execution_count": 41,
      "outputs": [
        {
          "output_type": "stream",
          "name": "stdout",
          "text": [
            "Remainder 18\n"
          ]
        }
      ]
    },
    {
      "cell_type": "code",
      "source": [
        "a=85\n",
        "b=67\n",
        "print('multiplication=',a*b)\n"
      ],
      "metadata": {
        "colab": {
          "base_uri": "https://localhost:8080/"
        },
        "outputId": "91a0da26-79ea-49a9-fa3f-41e803e32d02",
        "id": "ESFuiTIqUCzA"
      },
      "execution_count": 42,
      "outputs": [
        {
          "output_type": "stream",
          "name": "stdout",
          "text": [
            "multiplication= 5695\n"
          ]
        }
      ]
    },
    {
      "cell_type": "code",
      "source": [
        "'hello '+'world'"
      ],
      "metadata": {
        "colab": {
          "base_uri": "https://localhost:8080/",
          "height": 35
        },
        "id": "6dJj8NUEXbO9",
        "outputId": "bcbf16f2-925f-48b0-d98e-d6554bb7e754"
      },
      "execution_count": 46,
      "outputs": [
        {
          "output_type": "execute_result",
          "data": {
            "text/plain": [
              "'hello world'"
            ],
            "application/vnd.google.colaboratory.intrinsic+json": {
              "type": "string"
            }
          },
          "metadata": {},
          "execution_count": 46
        }
      ]
    },
    {
      "cell_type": "code",
      "source": [
        "'My '+'name '+'is '+'Chethan.M.S'"
      ],
      "metadata": {
        "colab": {
          "base_uri": "https://localhost:8080/",
          "height": 35
        },
        "id": "1NMmH0E8XsSF",
        "outputId": "6018534f-53d9-49fb-8847-dfc61f91ab3d"
      },
      "execution_count": 55,
      "outputs": [
        {
          "output_type": "execute_result",
          "data": {
            "text/plain": [
              "'My name is Chethan.M.S'"
            ],
            "application/vnd.google.colaboratory.intrinsic+json": {
              "type": "string"
            }
          },
          "metadata": {},
          "execution_count": 55
        }
      ]
    },
    {
      "cell_type": "code",
      "source": [
        "print('My '+'name '+'is '+'Chethan.M.S')"
      ],
      "metadata": {
        "colab": {
          "base_uri": "https://localhost:8080/"
        },
        "outputId": "47057721-4554-45b0-d734-567a7f39f30e",
        "id": "P2exlKCiY0Jp"
      },
      "execution_count": 54,
      "outputs": [
        {
          "output_type": "stream",
          "name": "stdout",
          "text": [
            "My name is Chethan.M.S\n"
          ]
        }
      ]
    },
    {
      "cell_type": "code",
      "source": [
        "'hello '*10"
      ],
      "metadata": {
        "colab": {
          "base_uri": "https://localhost:8080/",
          "height": 35
        },
        "id": "0eZEgO-0Z9L1",
        "outputId": "e86ed5b1-efe3-458e-d75e-89559274bb43"
      },
      "execution_count": 2,
      "outputs": [
        {
          "output_type": "execute_result",
          "data": {
            "text/plain": [
              "'hello hello hello hello hello hello hello hello hello hello '"
            ],
            "application/vnd.google.colaboratory.intrinsic+json": {
              "type": "string"
            }
          },
          "metadata": {},
          "execution_count": 2
        }
      ]
    },
    {
      "cell_type": "code",
      "source": [
        "'Chethan.M.S '*10"
      ],
      "metadata": {
        "colab": {
          "base_uri": "https://localhost:8080/",
          "height": 35
        },
        "id": "DYL06-iBadzO",
        "outputId": "63f94d99-6d29-499d-f9ae-a63889fd7ab8"
      },
      "execution_count": 4,
      "outputs": [
        {
          "output_type": "execute_result",
          "data": {
            "text/plain": [
              "'Chethan.M.S Chethan.M.S Chethan.M.S Chethan.M.S Chethan.M.S Chethan.M.S Chethan.M.S Chethan.M.S Chethan.M.S Chethan.M.S '"
            ],
            "application/vnd.google.colaboratory.intrinsic+json": {
              "type": "string"
            }
          },
          "metadata": {},
          "execution_count": 4
        }
      ]
    },
    {
      "cell_type": "code",
      "source": [
        "print('What is your name')\n",
        "MYNAME = input()\n",
        "print('my name is ',MYNAME)"
      ],
      "metadata": {
        "colab": {
          "base_uri": "https://localhost:8080/"
        },
        "id": "HjXUXUlrbhlv",
        "outputId": "76c5f48a-93e1-4705-a8cf-e3dcb6ff63cf"
      },
      "execution_count": 7,
      "outputs": [
        {
          "output_type": "stream",
          "name": "stdout",
          "text": [
            "What is your name\n",
            "Chethan.M.S\n",
            "my name is  Chethan.M.S\n"
          ]
        }
      ]
    },
    {
      "cell_type": "code",
      "source": [
        "print('What is your age ')\n",
        "age = input()\n",
        "print ( 'my age is', age)\n",
        "print( 'which is your branch')\n",
        "branch=input()\n",
        "print('my branch is ',branch)\n",
        "\n",
        "print('which is your college')\n",
        "college=input()\n",
        "print('my collge name is',college)\n",
        "\n",
        "\n"
      ],
      "metadata": {
        "colab": {
          "base_uri": "https://localhost:8080/"
        },
        "id": "wWfSgsgNd63t",
        "outputId": "b4b5ea16-2cd9-49b7-cae6-43f84d4bd5db"
      },
      "execution_count": 11,
      "outputs": [
        {
          "output_type": "stream",
          "name": "stdout",
          "text": [
            "What is your age \n",
            "18\n",
            "my age is 18\n",
            "which is your branch\n",
            "CSE\n",
            "my branch is  CSE\n",
            "which is your college\n",
            "CIT Gubbi\n",
            "my collge name is CIT Gubbi\n"
          ]
        }
      ]
    }
  ]
}