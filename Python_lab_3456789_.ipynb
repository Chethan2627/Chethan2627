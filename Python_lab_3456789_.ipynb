{
  "nbformat": 4,
  "nbformat_minor": 0,
  "metadata": {
    "colab": {
      "provenance": [],
      "authorship_tag": "ABX9TyMpqLuAK42JwhxTbSRvDHKj",
      "include_colab_link": true
    },
    "kernelspec": {
      "name": "python3",
      "display_name": "Python 3"
    },
    "language_info": {
      "name": "python"
    }
  },
  "cells": [
    {
      "cell_type": "markdown",
      "metadata": {
        "id": "view-in-github",
        "colab_type": "text"
      },
      "source": [
        "<a href=\"https://colab.research.google.com/github/Chethan2627/Chethan2627/blob/main/Python_lab_3456789_.ipynb\" target=\"_parent\"><img src=\"https://colab.research.google.com/assets/colab-badge.svg\" alt=\"Open In Colab\"/></a>"
      ]
    },
    {
      "cell_type": "markdown",
      "source": [
        "Examples for difference between if and while statement?\n",
        "\n",
        "\n",
        "\n",
        "\n",
        "\n",
        "\n",
        "\n",
        "\n",
        "\n",
        "\n",
        "\n",
        "\n",
        "\n",
        "\n",
        "\n",
        "\n",
        "\n",
        "\n",
        "\n",
        "\n",
        "\n",
        "\n",
        "\n",
        "\n",
        "\n",
        "\n",
        "\n",
        "\n",
        "\n",
        "\n"
      ],
      "metadata": {
        "id": "Zqgta1b5dg6Z"
      }
    },
    {
      "cell_type": "code",
      "execution_count": null,
      "metadata": {
        "colab": {
          "base_uri": "https://localhost:8080/"
        },
        "id": "sDf8w7uRZ3kg",
        "outputId": "e3573333-257d-4bf9-b0d6-6e68f30ccc1f"
      },
      "outputs": [
        {
          "output_type": "stream",
          "name": "stdout",
          "text": [
            "n= 1\n"
          ]
        }
      ],
      "source": [
        "n = 1\n",
        "if n<= 5:\n",
        "  print('n=',n)\n",
        "  n=n+1"
      ]
    },
    {
      "cell_type": "code",
      "execution_count": null,
      "metadata": {
        "colab": {
          "base_uri": "https://localhost:8080/"
        },
        "id": "7BsS3IvoaKp6",
        "outputId": "a852b466-4a37-436d-f8bf-e9b2475797fa"
      },
      "outputs": [
        {
          "output_type": "stream",
          "name": "stdout",
          "text": [
            "n= 1\n",
            "n= 2\n",
            "n= 3\n",
            "n= 4\n",
            "n= 5\n"
          ]
        }
      ],
      "source": [
        "n = 1\n",
        "while n<= 5:\n",
        "  print('n=',n)\n",
        "  n=n+1"
      ]
    },
    {
      "cell_type": "markdown",
      "source": [
        "Block which contain another block\n"
      ],
      "metadata": {
        "id": "qNYXAbmicqzh"
      }
    },
    {
      "cell_type": "markdown",
      "source": [
        "                                                    **OR**"
      ],
      "metadata": {
        "id": "yR98v7fzc_-i"
      }
    },
    {
      "cell_type": "markdown",
      "source": [
        "Example for break statement"
      ],
      "metadata": {
        "id": "KfXf1i-RdHZH"
      }
    },
    {
      "cell_type": "code",
      "source": [
        "n=1\n",
        "while n<=10:\n",
        " if n==5:\n",
        "  break\n",
        " print('n=',n)\n",
        " n=n+1"
      ],
      "metadata": {
        "colab": {
          "base_uri": "https://localhost:8080/"
        },
        "id": "oHoR1yZcbpW9",
        "outputId": "808d385a-39e9-454a-e9df-ec9d7c1c0ff5"
      },
      "execution_count": null,
      "outputs": [
        {
          "output_type": "stream",
          "name": "stdout",
          "text": [
            "n= 1\n",
            "n= 2\n",
            "n= 3\n",
            "n= 4\n"
          ]
        }
      ]
    },
    {
      "cell_type": "markdown",
      "source": [
        "Example for Continue statement\n"
      ],
      "metadata": {
        "id": "QtA9dE5Gd6-D"
      }
    },
    {
      "cell_type": "markdown",
      "source": [
        "it stops the coding of 5 and run next line"
      ],
      "metadata": {
        "id": "_ex6YmHme8at"
      }
    },
    {
      "cell_type": "code",
      "source": [
        "n=1\n",
        "while n<=10:\n",
        " if n==5:\n",
        "  n=n+1\n",
        "  continue\n",
        " print('n=',n)\n",
        " n=n+1"
      ],
      "metadata": {
        "id": "YhwBwut3eMTa",
        "colab": {
          "base_uri": "https://localhost:8080/"
        },
        "outputId": "78ef4b7e-f65e-41e0-9bf6-647545a628c8"
      },
      "execution_count": null,
      "outputs": [
        {
          "output_type": "stream",
          "name": "stdout",
          "text": [
            "n= 1\n",
            "n= 2\n",
            "n= 3\n",
            "n= 4\n",
            "n= 6\n",
            "n= 7\n",
            "n= 8\n",
            "n= 9\n",
            "n= 10\n"
          ]
        }
      ]
    },
    {
      "cell_type": "code",
      "source": [
        "n=3                             #initiation line where we wants to start\n",
        "while n<=10:\n",
        " if n==4:\n",
        "  n=n+1\n",
        "  continue\n",
        " print('n=',n)\n",
        " n=n+1"
      ],
      "metadata": {
        "colab": {
          "base_uri": "https://localhost:8080/"
        },
        "outputId": "5e98a48e-e417-4bab-d9dd-51f0783b7c7d",
        "id": "v-lGyoT5fdvL"
      },
      "execution_count": null,
      "outputs": [
        {
          "output_type": "stream",
          "name": "stdout",
          "text": [
            "n= 3\n",
            "n= 5\n",
            "n= 6\n",
            "n= 7\n",
            "n= 8\n",
            "n= 9\n",
            "n= 10\n"
          ]
        }
      ]
    },
    {
      "cell_type": "markdown",
      "source": [
        "For state or loop"
      ],
      "metadata": {
        "id": "Hl4rR5iCWfvx"
      }
    },
    {
      "cell_type": "code",
      "source": [
        "import random\n",
        "for i in range(15):\n",
        " print(random.randint(27,256))"
      ],
      "metadata": {
        "colab": {
          "base_uri": "https://localhost:8080/"
        },
        "id": "0oSmjO1OVFqD",
        "outputId": "306cbdaf-19d2-433f-83a8-6518d36550d1"
      },
      "execution_count": null,
      "outputs": [
        {
          "output_type": "stream",
          "name": "stdout",
          "text": [
            "223\n",
            "234\n",
            "115\n",
            "140\n",
            "63\n",
            "120\n",
            "248\n",
            "54\n",
            "206\n",
            "202\n",
            "51\n",
            "224\n",
            "52\n",
            "224\n",
            "95\n"
          ]
        }
      ]
    },
    {
      "cell_type": "markdown",
      "source": [
        "infinite loop     functions"
      ],
      "metadata": {
        "id": "-T6giZTsZYCU"
      }
    },
    {
      "cell_type": "code",
      "source": [
        "import sys\n",
        "while True :\n",
        "  print('Type to exit')\n",
        "  response = input()\n",
        "  if response == 'exit' :\n",
        "    sys.exit()\n",
        "  print('you typed ' + response + ' . ')"
      ],
      "metadata": {
        "colab": {
          "base_uri": "https://localhost:8080/",
          "height": 263
        },
        "id": "FUHVn8YYX-mS",
        "outputId": "5a8be422-ea6a-4f2e-9b36-08ecfbba2fa8"
      },
      "execution_count": 36,
      "outputs": [
        {
          "name": "stdout",
          "output_type": "stream",
          "text": [
            "Type to exit\n",
            "gugj\n",
            "you typed gugj . \n",
            "Type to exit\n",
            "jbj\n",
            "you typed jbj . \n",
            "Type to exit\n",
            "exit\n"
          ]
        },
        {
          "output_type": "error",
          "ename": "SystemExit",
          "evalue": "",
          "traceback": [
            "An exception has occurred, use %tb to see the full traceback.\n",
            "\u001b[0;31mSystemExit\u001b[0m\n"
          ]
        },
        {
          "output_type": "stream",
          "name": "stderr",
          "text": [
            "/usr/local/lib/python3.10/dist-packages/IPython/core/interactiveshell.py:3561: UserWarning: To exit: use 'exit', 'quit', or Ctrl-D.\n",
            "  warn(\"To exit: use 'exit', 'quit', or Ctrl-D.\", stacklevel=1)\n"
          ]
        }
      ]
    },
    {
      "cell_type": "code",
      "source": [
        "def hello():\n",
        "  print('hi')\n",
        "  print('hello')\n",
        "  print('cit')\n",
        "hello()\n",
        "hello()\n"
      ],
      "metadata": {
        "colab": {
          "base_uri": "https://localhost:8080/"
        },
        "id": "c6-jDRDZaS8O",
        "outputId": "bffb7fec-d29d-41c3-89ba-5b75ea940900"
      },
      "execution_count": null,
      "outputs": [
        {
          "output_type": "stream",
          "name": "stdout",
          "text": [
            "hi\n",
            "hello\n",
            "cit\n",
            "hi\n",
            "hello\n",
            "cit\n"
          ]
        }
      ]
    },
    {
      "cell_type": "markdown",
      "source": [
        "program for none statement\n"
      ],
      "metadata": {
        "id": "13VBegH6c7dy"
      }
    },
    {
      "cell_type": "code",
      "source": [
        "value = print()\n",
        "if value == None :\n",
        "  print(' value returned is None')\n",
        "print(value)\n"
      ],
      "metadata": {
        "colab": {
          "base_uri": "https://localhost:8080/"
        },
        "id": "Pmoi0gUAcTf8",
        "outputId": "60c8936d-2938-470d-e23e-53b5a6b0df60"
      },
      "execution_count": null,
      "outputs": [
        {
          "output_type": "stream",
          "name": "stdout",
          "text": [
            "\n",
            " value returned is None\n",
            "None\n"
          ]
        }
      ]
    },
    {
      "cell_type": "markdown",
      "source": [
        "Keyworld arguments"
      ],
      "metadata": {
        "id": "3l93j-queGPZ"
      }
    },
    {
      "cell_type": "markdown",
      "source": [
        "end and sep\n",
        "1)end"
      ],
      "metadata": {
        "id": "6LbzvP8ueMOG"
      }
    },
    {
      "cell_type": "code",
      "source": [
        "print('hello', end = '  ')  #end\n",
        "print('world')"
      ],
      "metadata": {
        "colab": {
          "base_uri": "https://localhost:8080/"
        },
        "id": "XQWGJvOceO3u",
        "outputId": "4e4864d8-ab19-4fbd-c72f-2394bb7d47d0"
      },
      "execution_count": null,
      "outputs": [
        {
          "output_type": "stream",
          "name": "stdout",
          "text": [
            "hello  world\n"
          ]
        }
      ]
    },
    {
      "cell_type": "markdown",
      "source": [
        "sep"
      ],
      "metadata": {
        "id": "vholK3PXfBJt"
      }
    },
    {
      "cell_type": "code",
      "source": [
        "print('cat', 'dog', 'mice')"
      ],
      "metadata": {
        "colab": {
          "base_uri": "https://localhost:8080/"
        },
        "id": "y_5NBuwffjCV",
        "outputId": "ab304cd9-bfbe-4054-8132-b7a15f75ec1d"
      },
      "execution_count": null,
      "outputs": [
        {
          "output_type": "stream",
          "name": "stdout",
          "text": [
            "cat dog mice\n"
          ]
        }
      ]
    },
    {
      "cell_type": "code",
      "source": [
        "print('cat', 'dog', 'mice', sep = '-') #sep"
      ],
      "metadata": {
        "colab": {
          "base_uri": "https://localhost:8080/"
        },
        "id": "rkOYbKYjfDyM",
        "outputId": "59a1d8e2-e31f-4669-fe65-643757f13d57"
      },
      "execution_count": null,
      "outputs": [
        {
          "output_type": "stream",
          "name": "stdout",
          "text": [
            "cat-dog-mice\n"
          ]
        }
      ]
    }
  ]
}