{
  "nbformat": 4,
  "nbformat_minor": 0,
  "metadata": {
    "colab": {
      "provenance": [],
      "authorship_tag": "ABX9TyN8U9qq7OTzPqMjVsTu/LTh",
      "include_colab_link": true
    },
    "kernelspec": {
      "name": "python3",
      "display_name": "Python 3"
    },
    "language_info": {
      "name": "python"
    }
  },
  "cells": [
    {
      "cell_type": "markdown",
      "metadata": {
        "id": "view-in-github",
        "colab_type": "text"
      },
      "source": [
        "<a href=\"https://colab.research.google.com/github/Chethan2627/Chethan2627/blob/main/Python_Program01_to_.ipynb\" target=\"_parent\"><img src=\"https://colab.research.google.com/assets/colab-badge.svg\" alt=\"Open In Colab\"/></a>"
      ]
    },
    {
      "cell_type": "markdown",
      "source": [
        "1. a) Develop a program to read the student details like Name, USN, and Marks in three subjects.Display the student details, total marks and percentage with suitable messages."
      ],
      "metadata": {
        "id": "YhUOmWSoluim"
      }
    },
    {
      "cell_type": "code",
      "execution_count": null,
      "metadata": {
        "colab": {
          "base_uri": "https://localhost:8080/"
        },
        "outputId": "a1cc78c6-ccf9-4288-af56-8d747db30fc0",
        "id": "3qfbPLxymd_1"
      },
      "outputs": [
        {
          "output_type": "stream",
          "name": "stdout",
          "text": [
            "Enter the name of the student :Chethan.M.S\n",
            "Enter the USN of the student :24\n",
            "Enter the marks in the subject1 :93\n",
            "Enter the marks in the subject2 :95\n",
            "Enter the marks in the subject3 :95\n",
            " Students details :==========\n",
            "Name : Chethan.M.S\n",
            "USN :  24\n",
            "Marks1 : 93\n",
            "Marks2 : 95\n",
            "Marks3 :  95\n",
            "Total :  283\n",
            "percent 94.33333333333333\n"
          ]
        }
      ],
      "source": [
        "#Program to read name , USN and Marks of 3 subjects\n",
        "Name = input(\"Enter the name of the student :\")\n",
        "USN = input(\"Enter the USN of the student :\")\n",
        "Marks1 = int(input(\"Enter the marks in the subject1 :\"))\n",
        "Marks2 = int(input(\"Enter the marks in the subject2 :\"))\n",
        "Marks3 = int(input(\"Enter the marks in the subject3 :\"))\n",
        "print(\" Students details :==========\")\n",
        "print(\"Name :\" ,Name )\n",
        "print(\"USN : \",USN)\n",
        "print(\"Marks1 :\" ,Marks1)\n",
        "print(\"Marks2 :\" ,Marks2)\n",
        "print(\"Marks3 : \",Marks3)\n",
        "print(\"Total : \",Marks1+Marks2+Marks3)\n",
        "print(\"percent\" ,((Marks1+Marks2+Marks3)/3))"
      ]
    },
    {
      "cell_type": "markdown",
      "source": [
        "B) Develop a program to read the name and year of birth of a person. Display whether the person is a senior citizen or not.\n",
        "                                          "
      ],
      "metadata": {
        "id": "hXEnNJhlTa8F"
      }
    },
    {
      "cell_type": "code",
      "source": [
        "                                  Age.py"
      ],
      "metadata": {
        "id": "dSUomIIcTZKO"
      },
      "execution_count": null,
      "outputs": []
    },
    {
      "cell_type": "code",
      "source": [
        "from datetime import date\n",
        "Name = input(\" Enter thr name of the person: \")\n",
        "DOB = int(input(\"Enter his year of birth : \"))\n",
        "\n",
        "currentyear = date.today().year\n",
        "Age = currentyear - DOB\n",
        "\n",
        "if (Age > 60):\n",
        "  print(Name, \"is a seniorcitizen.\")\n",
        "else:\n",
        "  print(Name, \"is not a senior citizen.\")\n"
      ],
      "metadata": {
        "colab": {
          "base_uri": "https://localhost:8080/"
        },
        "id": "fihhkn-bUDOM",
        "outputId": "ed4c8175-db9d-45db-ae7c-5f90e1efefe5"
      },
      "execution_count": null,
      "outputs": [
        {
          "output_type": "stream",
          "name": "stdout",
          "text": [
            " Enter thr name of the person: Chethan.M.S\n",
            "Enter his year of birth : 2006\n",
            "Chethan.M.S is not a senior citizen.\n"
          ]
        }
      ]
    },
    {
      "cell_type": "code",
      "source": [],
      "metadata": {
        "id": "1sxnz-eRYIcd"
      },
      "execution_count": null,
      "outputs": []
    },
    {
      "cell_type": "code",
      "source": [
        "from datetime import date\n",
        "Name = input(\" Enter thr name of the person: \")\n",
        "DOB = int(input(\"Enter his year of birth : \"))\n",
        "\n",
        "currentyear = date.today().year\n",
        "Age = currentyear - DOB\n",
        "\n",
        "if (Age > 60):\n",
        "  print(Name, \"is a seniorcitizen.\")\n",
        "else:\n",
        "  print(Name, \"is not a senior citizen.\")\n"
      ],
      "metadata": {
        "colab": {
          "base_uri": "https://localhost:8080/"
        },
        "outputId": "1939aaae-51b9-4f5d-ce61-766a155a9853",
        "id": "t99NZtVSYKjA"
      },
      "execution_count": null,
      "outputs": [
        {
          "output_type": "stream",
          "name": "stdout",
          "text": [
            " Enter thr name of the person: Raj\n",
            "Enter his year of birth : 1947\n",
            "Raj is a seniorcitizen.\n"
          ]
        }
      ]
    },
    {
      "cell_type": "markdown",
      "source": [
        "2) a. Develop a program to generate Fibonacci sequence of length (N). Read N from the console"
      ],
      "metadata": {
        "id": "grMSvslwifwx"
      }
    },
    {
      "cell_type": "code",
      "source": [
        "                                  #     Fibonacci.py"
      ],
      "metadata": {
        "id": "ZQGtgr99i9sD"
      },
      "execution_count": null,
      "outputs": []
    },
    {
      "cell_type": "code",
      "source": [
        "n=int(input(\"Enter the Fibonacci sequenc length to be generated:\"))\n",
        "\n",
        "firstnumber = 0\n",
        "secondnumber = 1\n",
        "print(' The Fibonacci series is: ')\n",
        "print(firstnumber)\n",
        "print(secondnumber)\n",
        "for i in range (2,n):\n",
        " newnumber = firstnumber+secondnumber\n",
        " print(newnumber)\n",
        " firstnumber = secondnumber\n",
        " secondnumber = newnumber"
      ],
      "metadata": {
        "colab": {
          "base_uri": "https://localhost:8080/"
        },
        "id": "hGjXunIPjaO2",
        "outputId": "c0e1c8fe-5be2-4ca3-be09-c2b2f9de6b65"
      },
      "execution_count": null,
      "outputs": [
        {
          "output_type": "stream",
          "name": "stdout",
          "text": [
            "Enter the Fibonacci sequenc length to be generated:10\n",
            " The Fibonacci series is: \n",
            "0\n",
            "1\n",
            "1\n",
            "2\n",
            "3\n",
            "5\n",
            "8\n",
            "13\n",
            "21\n",
            "34\n"
          ]
        }
      ]
    },
    {
      "cell_type": "markdown",
      "source": [
        "b. Write a function to calculate functional of a number . develop a program to complete binomial efficient (given N & R)"
      ],
      "metadata": {
        "id": "lVK37oUtgeWj"
      }
    },
    {
      "cell_type": "code",
      "source": [
        "def fact(num):\n",
        " if num == 0:\n",
        "  return 1\n",
        " else:\n",
        "  return num * fact(num-1)\n",
        "\n",
        "n = int(input(\"Enter the value of N:\"))\n",
        "r = int(input(\"Enter the value of R(R cannot be negative or greater than N):\"))\n",
        "\n",
        "\n",
        "\n",
        "\n",
        "nCr = fact(n) / (fact(r) * fact(n-r))\n",
        "print(n, 'C', r, '=',nCr)"
      ],
      "metadata": {
        "id": "KwHeb8mYj4HU",
        "colab": {
          "base_uri": "https://localhost:8080/"
        },
        "outputId": "cba15e51-c44a-499d-ccd4-15a772333761"
      },
      "execution_count": null,
      "outputs": [
        {
          "output_type": "stream",
          "name": "stdout",
          "text": [
            "Enter the value of N:5\n",
            "Enter the value of R(R cannot be negative or greater than N):2\n",
            "5 C 2 = 10.0\n"
          ]
        }
      ]
    },
    {
      "cell_type": "markdown",
      "source": [
        "3. Read N numbers from the console and create a list. Develop a program to print mean, variance and standard deviation with suitable messages.\n"
      ],
      "metadata": {
        "id": "RZhO9RE6lWBn"
      }
    },
    {
      "cell_type": "code",
      "source": [
        "import math\n",
        "L =[]\n",
        "n = int(input(\"Enter the number of elements: \"))\n",
        "\n",
        "for i in range(n):\n",
        " val = int(input(\"Enter the element : \"))\n",
        " L.append(val)\n",
        "\n",
        "\n",
        " print('The length of list1 is ' , len(L))\n",
        " print(' List Contents' , L)\n",
        " mean = sum(L)/n\n",
        " total = 0\n",
        "for elem in L:\n",
        " total += (elem - mean)**2\n",
        " variance = total / n\n",
        " stddev = math.sqrt(variance)\n",
        " print(\"Mean =\", mean)\n",
        " print(\"Variance =\", variance)\n",
        " print(\"Standard Deviation= \", stddev)"
      ],
      "metadata": {
        "colab": {
          "base_uri": "https://localhost:8080/"
        },
        "id": "M7BcRpLdnSQr",
        "outputId": "9913b32e-c1b1-457c-dde1-254a26fdf25e"
      },
      "execution_count": null,
      "outputs": [
        {
          "output_type": "stream",
          "name": "stdout",
          "text": [
            "Enter the number of elements: 2\n",
            "Enter the element : 25\n",
            "The length of list1 is  1\n",
            " List Contents [25]\n",
            "Enter the element : 30\n",
            "The length of list1 is  2\n",
            " List Contents [25, 30]\n",
            "Mean = 27.5\n",
            "Variance = 3.125\n",
            "Standard Deviation=  1.7677669529663689\n",
            "Mean = 27.5\n",
            "Variance = 6.25\n",
            "Standard Deviation=  2.5\n"
          ]
        }
      ]
    },
    {
      "cell_type": "code",
      "source": [
        "import random\n",
        "messages = [' it is certain',\n",
        "            ' it is decidedly so',\n",
        "            ' yes definitely',\n",
        "            ' reply hazy try again',\n",
        "            ' ask again later',\n",
        "            ' concentrate and ask again',\n",
        "            ' my reply is no ',\n",
        "            ' out look not so good',\n",
        "            ' very doubtful']\n",
        "print(messages[random.randint(0,len(messages))])"
      ],
      "metadata": {
        "colab": {
          "base_uri": "https://localhost:8080/"
        },
        "id": "hgkuVpNriM3N",
        "outputId": "a7f3e282-d615-410a-b9a6-886cc8923b1a"
      },
      "execution_count": null,
      "outputs": [
        {
          "output_type": "stream",
          "name": "stdout",
          "text": [
            " reply hazy try again\n"
          ]
        }
      ]
    },
    {
      "cell_type": "markdown",
      "source": [
        "4. Read a multi digit number (as chars) from the console. Develop a program to print the frequency of each digit with suitable message."
      ],
      "metadata": {
        "id": "WwdyDsXLhZR9"
      }
    },
    {
      "cell_type": "code",
      "source": [
        "n = input(\" Enter a number : \")\n",
        "freq = {}\n",
        "\n",
        "for i in n:\n",
        "  if i in freq:\n",
        "   freq[i] += 1\n",
        "  else:\n",
        "   freq[i] = 1\n",
        "    # printing result\n",
        "print(\"Count of all characters is :\" , freq)\n",
        "\n"
      ],
      "metadata": {
        "colab": {
          "base_uri": "https://localhost:8080/"
        },
        "id": "YlaTjkP4iTiC",
        "outputId": "3383ecb1-cf6f-4f05-d44d-d0cc8de4e74e"
      },
      "execution_count": null,
      "outputs": [
        {
          "output_type": "stream",
          "name": "stdout",
          "text": [
            " Enter a number : 9964654037\n",
            "Count of all characters is : {'9': 2, '6': 2, '4': 2, '5': 1, '0': 1, '3': 1, '7': 1}\n"
          ]
        }
      ]
    },
    {
      "cell_type": "markdown",
      "source": [
        "5. Develop a program to print 10 most frequently appearing words in a text file. [HINT: Use dictionay with distinct words and their frequency of occurrences. Sort the dictionary in reverse order of frequency and display dictionary slice of first 10 times]"
      ],
      "metadata": {
        "id": "Cqkce_wBmQ9s"
      }
    },
    {
      "cell_type": "code",
      "source": [
        "import operator\n",
        "fname = input('Enter the file name: ')\n",
        "\n",
        "fhand=open(fname)\n",
        "counts = dict()\n",
        "for line in fhand:\n",
        " words = line.split()\n",
        "\n",
        "for word in words:\n",
        " if word in counts:\n",
        "  counts[word]+=1\n",
        " else:\n",
        "  counts[word]=1\n",
        "\n",
        "\n",
        "counts=sorted(counts.items(),key=operator.itemgetter(1),reverse=True)\n",
        "\n",
        "for i in range(10):\n",
        " print(counts[i])"
      ],
      "metadata": {
        "colab": {
          "base_uri": "https://localhost:8080/"
        },
        "id": "vgE78WqnmQJ9",
        "outputId": "de1bf4e5-7e63-41a7-f98d-24e2b4b2492e"
      },
      "execution_count": null,
      "outputs": [
        {
          "output_type": "stream",
          "name": "stdout",
          "text": [
            "Enter the file name: KING.txt\n",
            "('a', 2)\n",
            "('of', 2)\n",
            "('To', 1)\n",
            "('serve', 1)\n",
            "('as', 1)\n",
            "('resource', 1)\n",
            "('centre', 1)\n",
            "('aiming', 1)\n",
            "('comprehensive', 1)\n",
            "('collection', 1)\n"
          ]
        }
      ]
    },
    {
      "cell_type": "code",
      "source": [
        "import operator\n",
        "fname = input('Enter the file name: ')\n",
        "\n",
        "fhand=open(fname)\n",
        "counts = dict()\n",
        "for line in fhand:\n",
        " words = line.split()\n",
        "\n",
        "for word in words:\n",
        " if word in counts:\n",
        "  counts[word]+=1\n",
        " else:\n",
        "  counts[word]=1\n",
        "\n",
        "\n",
        "counts=sorted(counts.items(),key=operator.itemgetter(1),reverse=True)\n",
        "\n",
        "for i in range(10):\n",
        " print(counts[i])"
      ],
      "metadata": {
        "colab": {
          "base_uri": "https://localhost:8080/"
        },
        "outputId": "2780e238-0ed5-4442-d1f4-0ccbb0015623",
        "id": "w1Dz46cwymS8"
      },
      "execution_count": 6,
      "outputs": [
        {
          "output_type": "stream",
          "name": "stdout",
          "text": [
            "Enter the file name: Chethan.M.S.txt\n",
            "('Tree', 1)\n",
            "('plantation', 1)\n",
            "('will', 1)\n",
            "('be', 1)\n",
            "('done', 1)\n",
            "('on', 1)\n",
            "('both', 1)\n",
            "('sides', 1)\n",
            "('of', 1)\n",
            "('the', 1)\n"
          ]
        }
      ]
    },
    {
      "cell_type": "markdown",
      "source": [
        "6.Develop a program to sort the contents of a text file and write the sorted contents into a seperate text file. [HINT: Use string methods strip(),len(), list methods sort(),append(),and file methods open(),readlinrs(),and write()]"
      ],
      "metadata": {
        "id": "kEPoJydYkGAh"
      }
    },
    {
      "cell_type": "code",
      "source": [
        "f = open(\"Chethan.M.S.txt\")\n",
        "words = []\n",
        "for line in f:\n",
        "  temp = line.split()\n",
        "  for i in temp:                       #for loop in for loop\n",
        "    words.append(i)\n",
        "\n",
        "f.close()\n",
        "words.sort()\n",
        "\n",
        "outfile = open(\"output.txt\",\"w\")\n",
        "for i in words:\n",
        "  outfile.writelines(i)\n",
        "  outfile.writelines(\" \")\n",
        "\n",
        "outfile.close()\n",
        "\n",
        "\n",
        "\n"
      ],
      "metadata": {
        "id": "Helge8Qwk7UV"
      },
      "execution_count": 8,
      "outputs": []
    }
  ]
}